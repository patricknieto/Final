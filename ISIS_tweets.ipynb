{
 "cells": [
  {
   "cell_type": "code",
   "execution_count": 157,
   "metadata": {
    "collapsed": false
   },
   "outputs": [],
   "source": [
    "import pandas as pd\n",
    "import csv\n",
    "import os\n",
    "import numpy\n",
    "import copy\n",
    "%matplotlib inline\n",
    "import numpy as np\n",
    "import seaborn as sns\n",
    "import re\n",
    "from sklearn.feature_extraction.text import TfidfVectorizer, CountVectorizer\n",
    "from gensim import corpora, models, similarities, matutils\n",
    "from gensim.corpora.dictionary import Dictionary\n",
    "from sklearn.cluster import DBSCAN\n",
    "from sklearn.decomposition import NMF, PCA\n",
    "import matplotlib as mpl\n",
    "import matplotlib.pyplot as plt"
   ]
  },
  {
   "cell_type": "code",
   "execution_count": 158,
   "metadata": {
    "collapsed": true
   },
   "outputs": [],
   "source": [
    "import matplotlib.pyplot as plt\n",
    "\n",
    "#Some nice plotting params\n",
    "mpl.rcParams['figure.figsize'] = (8,5)\n",
    "mpl.rcParams['lines.linewidth'] = 3\n",
    "plt.style.use('ggplot')"
   ]
  },
  {
   "cell_type": "markdown",
   "metadata": {},
   "source": [
    "# Load ISIS data set and clean tweets"
   ]
  },
  {
   "cell_type": "code",
   "execution_count": 159,
   "metadata": {
    "collapsed": false
   },
   "outputs": [],
   "source": [
    "df = pd.read_csv('/media/patrick/MY_EXTERNAL/ISIS/tweets.csv', parse_dates= [6])"
   ]
  },
  {
   "cell_type": "code",
   "execution_count": 160,
   "metadata": {
    "collapsed": false
   },
   "outputs": [],
   "source": [
    "def clean_tweet(tweet):\n",
    "    ext = \"http\"\n",
    "    text = tweet[:tweet.find(ext)].lower()\n",
    "    text = re.sub(\"[^\\S]\", \" \", text)\n",
    "    text = re.sub(\"english translation \", \"\", text)\n",
    "    textOnly = re.sub(\"[^a-zA-Z0-9@# ]\", \"\", text)\n",
    "    return(textOnly)"
   ]
  },
  {
   "cell_type": "code",
   "execution_count": 161,
   "metadata": {
    "collapsed": false,
    "scrolled": true
   },
   "outputs": [],
   "source": [
    "df.tweets = df.tweets.apply(clean_tweet)"
   ]
  },
  {
   "cell_type": "code",
   "execution_count": 162,
   "metadata": {
    "collapsed": false
   },
   "outputs": [],
   "source": [
    "docs = []\n",
    "for username in df.username.unique():\n",
    "    words = ''\n",
    "    for tweet in df[df.username == username].tweets:\n",
    "        words = words + ' ' + tweet\n",
    "    docs.append(words)"
   ]
  },
  {
   "cell_type": "markdown",
   "metadata": {},
   "source": [
    "### Treat all the tweets from one user as a single document and vectorize"
   ]
  },
  {
   "cell_type": "code",
   "execution_count": 163,
   "metadata": {
    "collapsed": true
   },
   "outputs": [],
   "source": [
    "Tfidf_vectorizer = TfidfVectorizer(analyzer='word',\n",
    "                                  ngram_range=(1,3), stop_words='english',\n",
    "                                  token_pattern='\\\\b[a-z][a-z]+\\\\b')\n",
    "tfidf_tweets = Tfidf_vectorizer.fit_transform(docs)"
   ]
  },
  {
   "cell_type": "code",
   "execution_count": 164,
   "metadata": {
    "collapsed": false
   },
   "outputs": [],
   "source": [
    "count_vectorizer = CountVectorizer(analyzer='word',\n",
    "                                  ngram_range=(1,3), stop_words='english',\n",
    "                                  token_pattern='\\\\b[a-z][a-z]+\\\\b')\n",
    "cv_tweets = count_vectorizer.fit_transform(docs)"
   ]
  },
  {
   "cell_type": "markdown",
   "metadata": {},
   "source": [
    "--------------------------------------------------------------------------"
   ]
  },
  {
   "cell_type": "code",
   "execution_count": 165,
   "metadata": {
    "collapsed": false
   },
   "outputs": [],
   "source": [
    "from sklearn.utils.extmath import randomized_svd\n",
    "U, Sigma, VT = randomized_svd(cv_tweets, n_components=15,\n",
    "                                      n_iter=5,\n",
    "                                      random_state=None)"
   ]
  },
  {
   "cell_type": "code",
   "execution_count": 166,
   "metadata": {
    "collapsed": false
   },
   "outputs": [],
   "source": [
    "sigma = []\n",
    "for k,v in enumerate(Sigma):\n",
    "    sigma.append((k,v))"
   ]
  },
  {
   "cell_type": "code",
   "execution_count": 167,
   "metadata": {
    "collapsed": false,
    "scrolled": true
   },
   "outputs": [
    {
     "data": {
      "image/png": "[encoded data removed]",
      "text/plain": [
       "<matplotlib.figure.Figure at 0x7f8ef0dff6a0>"
      ]
     },
     "metadata": {},
     "output_type": "display_data"
    }
   ],
   "source": [
    "f = plt.scatter(*zip(*sigma))"
   ]
  },
  {
   "cell_type": "markdown",
   "metadata": {},
   "source": [
    "Based on the sigma values from the resulting matrix we can choose a about 5 components to use in our NMF model in order to explain the most.....?"
   ]
  },
  {
   "cell_type": "markdown",
   "metadata": {},
   "source": [
    "### NMF decomposition"
   ]
  },
  {
   "cell_type": "code",
   "execution_count": 168,
   "metadata": {
    "collapsed": false
   },
   "outputs": [],
   "source": [
    "from collections import Counter, defaultdict\n",
    "\n",
    "import seaborn as sns\n",
    "from sklearn.metrics.pairwise import pairwise_distances\n",
    "from sklearn.metrics.pairwise import cosine_similarity"
   ]
  },
  {
   "cell_type": "code",
   "execution_count": 169,
   "metadata": {
    "collapsed": false
   },
   "outputs": [],
   "source": [
    "num_topics = 5\n",
    "model = NMF(n_components=num_topics, init='random', random_state=0)\n",
    "nmf = model.fit_transform(tfidf_tweets.toarray())"
   ]
  },
  {
   "cell_type": "code",
   "execution_count": 170,
   "metadata": {
    "collapsed": true
   },
   "outputs": [],
   "source": [
    "doc_cluster = [list(r).index(max(r)) for r in nmf]"
   ]
  },
  {
   "cell_type": "code",
   "execution_count": 171,
   "metadata": {
    "collapsed": false
   },
   "outputs": [
    {
     "name": "stdout",
     "output_type": "stream",
     "text": [
      "[2, 1, 4, 4, 2, 4, 2, 4, 4, 1, 2, 0, 4, 4, 0, 2, 1, 4, 4, 4]\n",
      "[3, 0, 0, 2, 3, 4, 4, 4, 2, 0, 0, 4, 2, 4, 0, 2, 2, 2, 2]\n",
      "[4, 4, 4, 4, 4, 4, 0, 4, 4, 4, 4, 2, 4, 2, 0, 4, 4, 4, 2]\n",
      "[2, 4, 2, 0, 4, 4, 4, 2, 2, 4, 2, 0, 2, 2, 1, 2, 2, 4, 2, 4]\n"
     ]
    }
   ],
   "source": [
    "print (doc_cluster[0:20])\n",
    "print (doc_cluster[41:60])\n",
    "print (doc_cluster[61:80])\n",
    "print( doc_cluster[-40:-20])"
   ]
  },
  {
   "cell_type": "code",
   "execution_count": 172,
   "metadata": {
    "collapsed": false
   },
   "outputs": [
    {
     "data": {
      "text/plain": [
       "[20, 11, 26, 6, 49]"
      ]
     },
     "execution_count": 172,
     "metadata": {},
     "output_type": "execute_result"
    }
   ],
   "source": [
    "cluster_size = [0,0,0,0,0]\n",
    "for v in doc_cluster:\n",
    "    cluster_size[v]+=1\n",
    "cluster_size"
   ]
  },
  {
   "cell_type": "code",
   "execution_count": 173,
   "metadata": {
    "collapsed": false,
    "scrolled": true
   },
   "outputs": [
    {
     "data": {
      "text/plain": [
       "' salamu alaykum im back do supports and spread my new account barakallahu feekum  @yazeeddhardaa25 cc @ibnnuhas @jazrawiuod @striv3ride @afroqaqaisbac @baqiya58 jazakallahu akh @umulbanat1 jazakallahu uk @aljabarti22 jazakallahu ak @ummaysha20 jazakallahu ukhti @abtigood @asadalkanadi1 @bintrose33 jazakallahu ukhti @abuhaleema28 @skxxx50 @abtigood @muslimah1 @jasonphedo @aljabali23 @abdullahkayaniw @checkcontent @skxx51 actually he has been changed drastically after is took a revenged and encircled them in dez @striv3ric @warreports 1 @skxx51 he cant accept the mubahala between sh adnani amp abu abdullah shami where the truth is on is @striv3ric @warreports 2 @skxx51 if all of you remember his tweets from his first acc he used to support is and made a clarification the @striv3ric @warreports3 @skxx51 truth behind jan13 where hes asserted that fsa the one who start the infighting and killing muhajireen @striv3ric @warreports4 @skxx51 those who doesnt know him will says that his tweets are true and hes on haqq @striv3ri history repeated itself jn almost vanished when #is came to #syria and massive bayah from #aleppo amp #raqqa  #islamicstate now just 8 kilometres from great umayyad mosque march towards #damascus  rt @pieternanninga new 37min video #is #sinai prov snipers vbieds manpads amp footage of last julys attack on #egyptian patrol boat h rt @pieternanninga new #is video shows four men being burned alive in alanbar province  rt @3bdulkaed6r russian troops fighting alongside assads army against syrian rebels  rt @syrializer #syria isis destroys more ancient artifacts in #palmyra #islamicstate  @jtmharreh thats an untold story a painful realit @bintrosie34 our prophet has ordered us to fight you till you worship allah alone or give jizya he who withholds the jizya is an 1 @bintrosie34 forgot to put this  in my tweets lol @bintrosie34 is was mentioned about jizya after they conquered mosul and is was told them who want to stay under the caliphate must give i @bintrosie34 yeah madkhalis also against this all out this is caliphate upon prophet methodology not upon obama methodology lol @bintrosie34 it would be on main page of report or papers if is save nuns from safavids or nusayris lo @bintrosie34 because they dont want to accept the sharia because they know they cant spread their stupid religion practice publicly 1 @bintrosie34 they were discovered and learnt that is would be destroy all the crosses in is area and change a church in to a dawah hall 2 institution of the cubs of the caliphate in wilayat #alkhayr #deirezzor  @jazrawiouud this is a critic from abu abdullah as shami @striv3ric i think he abu abdullah shami who made mubahala wit sh adnani since allh was invoked his curse upon themthey werent on haq a beautiful scenery can be seen on this picture one of the bridges in #mosul city of caliphate #islamicstate  humanity only belong to kuffar its humanity if kuffar carried out a genocides on muslims   rt @ramiallolah #drones footage taken prior an #isis massive vbied attack on an #iraqi army barrack  rt @sakirkhader shocking footage apparently shows the bodies of several tied and tortured #is#isis prisoners in a #iraqi jail gt  liwa thuwwar syria going to begin a battle in allajat against #islamicstate  @jazrawiouud i thought this was the beginning of their suffering in the facing of death @zaheralali0 @mafalde jazakallahu ak rt @thejokerdc came to the wrong manor    rt @ramiallolah happens only in the pathetic western media the terrorist dogs transform into rebels #turkey #pkk #twitterkurds  rt @ramiallolah #washingtons tail the head of #hdp threatens #ankara he will turn #turkey into another #syria #pkk #twitterkurds  sh abu musab az zarqawi rahimahullh while hes a leader of tandhim tawheed wal jihad beheading an american enjoy  martyrdom operation by akhi abu turab al jazrawi in wilayat #salaheddeen may allh accept and high his rank  @yazeeddhardaa25 watch video  @fujiomaiko listen carefully to the 1st nasheed in this vid remember the series of is vid featuring sh umar in dez nawafid min ard almalahe @fujiomaiko its makes me remember abu shuaib al libi and abu ayyub al libi two martyrdom operations conducted in vicinity of #deirezzor airport following with the massive attacks by the fighters of #islamicstat @fujiomaiko yeah gazwat of al khayr before the jan13 then they came back to aleppo @fujiomaiko akhi give me a link of nasheed that featuring in return of gold dinar @fujiomaiko yt link @isabatubaghdadi jazakallahu akhi @fujiomaiko @truthfulfamily @fujiomaiko i know you can search it for me ya akhi abu nashee @fujiomaiko jazakallahu akh @jtmharreh a lion that thirsting a safavids bloods with his silencer it was a year after the released of saleel as sawarim 4 i hope the 5th version will coming soon rt @ramiallolah #facebook page of ole johan ofstad from #norway who #isis demands a ransom for his release  rt @ramiallolah #isis offering a prisoner from #norway for sale ole johangrimsgaardofstad  rt @ramiallolah #isis #dabiq issue 11  rt @ramiallolah #breakingnews #isis showing a private information of #usa @potus and his family after a hacking attempt a while ago  # # # # # # rt @markito0171 #russian combat forces in #syrias desert of eastern rural #homs province with russian army truck  rt @sta92                     rt @ejmalrai #jn #aq spokesperson harshly attack #ahrar alsham with an endless list of accusation #syria  rt @ramiallolah no need to worry about #russian invasion in #syria one friday sermon in #mecca declaring defensive jihad is more tha'"
      ]
     },
     "execution_count": 173,
     "metadata": {},
     "output_type": "execute_result"
    }
   ],
   "source": [
    "docs[2]"
   ]
  },
  {
   "cell_type": "code",
   "execution_count": 174,
   "metadata": {
    "collapsed": false,
    "scrolled": true
   },
   "outputs": [
    {
     "data": {
      "text/plain": [
       "' best generation ever takbirrr #is #dawlah #cubs  rt @abdelhakzait @nasseralfahad0              ameen #mojahdin #saudi   #is #doma   #    #                  pls share brothers and sisters    #  rt @cnn photo of israeli soldier holding palestinian boy in headlock goes viral  @tawheed1is but one is important to live when the other one is not the word of the week  @ironmuhajir2 @jundhullah14  nothing like jihad god give us the help and power to do our farrid my heart is tears blood every day for those kids from the occupied #syria my loved country  rt @muslimprisoners bothers amp sisters plz show determination if the haters never trier banning abu haleemah we should never stop our sho rt @muslimprisoners mainstream media reporting that @anjemchoudary has 10 bail conditions  thx god our lovely shiekh is free  wish to meet you soon teacher and wish the freedom for all brothers in preson  rt @islamreligion why do muslims eat halal meat         pls re tweet   there is no good in us if the people of shaam corrup                                                may allah protect you from all bad people   @akhmadjohn @rahimred1 the link is not opening bro any other way to open it rt @islamiceyes nabi saw said no one who has the weight of a seed of arrogance in his heart will enter paradise muslim where are muslims where ared the real #is #mujahdeen what a shame so disappointed   rt @aimanofarabia a summary of what happened in masjid al aqsa this morning israel thinks it can stop people from coming to pray  winter has started in #london that means more cloud less light and more and more depressio rt @freealeppo1985 #      #  #        any one knows best way to apply for a #jobs with #muslimcommunity or any shop with real islamis manor rt @ayyx3 subhan allh its amazing how we can love and care for brothers and sisters even though we havent met them because its f sabli @ummhussain mashaa allah you have made an important step for this life and the #hereafter may allah honors us with #hijjrahamp #shahad @iraqisuryani1 @wjurjia and what about houthy militia booms and attacks civilian why you dont mention it yesss proudly we are   any 1 can tell what make those chiekh speak this way is it for the sake of the western govs or brain washed by media  the big propaganda of #human #rights   rt @pray4pal crisis electricity water oil no work no rebuild living in a prison life is a miracle in gaza  #gazaunderattack  rt @muslimprisoners islamic roadshow lewisham today  may allah accept their efforts in conveying the message of islam in the uk ameen h go ahead lions   rt @muslimprisoners ya allah  #freemuslimprisoners  rt @hamzasy9  #  #  #  #              from the heart love and respect for all #mujahdin in bilad #alsham brothersampsisters you are our hope to lead us to right way #i rt @markito0171 #syria #fsa in northern #homs publish statement about #russian airstrikes on their held towns  rt @sultanalzabni                       htt rt @muslimprisoners interesting statement  ya allah help this ummah amp #freemuslimprisoners  @adjamessaoud amee rt @theeconomist putin is the first kremlin leader to bomb an area outside the former soviet union since 1979  ya mountakem ya jabbar ya rab  guidance is from allah no matter how intelligent you are without allahs guidance you will never succeed  rt @muslimprisoners plz read the press release published by the family of sheikh abu hamza regarding his situation #freemuslimprisoners h @tawheednetwrk  may allah protect him from all murtadin and kuffar may allah make it easy for him and u rt @ummumarah2 ya allah we ask u to protect pur beloved sheikh from any harm  hasbunaallah   rt @khaledsiddique every muslim needs to rt this now public react to hearing quran for the first time  rt @abdussamadaif most of the sins committed by the son of adam are sins of the tongue wish my kids have the same happiness where i live all a big lie #is #islamistate #lions #aleppo   @alfatih18 mubrak akhi may allah rewards you for all your wishes to him and keep him on the tawheed for all his life rt @mousaalomar                        rt @muslimprisoners islamic reminders from abu walaa 10 causes 4 allahs love 4 his slave  @ibra18fatih @alfatih18 wa iyakum my brother remember me and make duaa when you do akika calibration  rt @hifztipz take alquran as your companion in this life and quran will be your companion in the solitude of the grave rt @abuhajar1437 when you find that one door has closed upon you  never despair  rt @markito0171 snapshot of #russian  #syrian friendship  #  #   rt @muslimprisoners ya allah we call upon you seeking your help mercy and forgiveness  rt @algutah1991                   #    so sad news muslims killing each others when our enemy is watching happily may allah unite our muslims brothers  rt @muslimprisoners they had nothing against them except that they believed in allh the allmighty worthy of all praise quran858 h rt @abedalii if john does something bad john is blamed if ahmed does something bad islam is blamed double standards blame the people rt @gazasamah i cannot go to school for study as i work to afford the little needs of my family #gazachildren #breakgazasiege  ameen  rt @muslimprisoners please make dua to allah swt to #freeanjemchoudary as he is due 2 apply 4 bail on 9122015 #freemuslimprisoners ht #is #mujahid #dawlah  support our sister   #syria #syrianregim  @nutsflippedz1 @avuxeni  how do you know pls dont tell me you were there rt @aejkhalil #assad trophy  rt @revolutionsyria # before amp after how assad hezbollah amp irans gangs transformed beautiful #zabadani near #damascus #syria ht ma shaa allah this is islam manor in the #islamicstate love you brothers and wish to be with you    rt @aejkhalil #scd children victim of #russia airstrikes on refugee camp in #abdeen #idlib #syria dec 30  our enemies   follow amp support  follow amp support   @reynaldovegas1 @muhammad1187 @bssjd1 @redbandanna11 @mujahiddeen6  very interesting article jazak alla support our sister pls  streets and roads are empty london is ghosts city #europe is shaking lions of khilafa are making the wold safer place  takbeeerr  allahu akbar                           rt @zmeryame #           #        #   rt @abuyusef90 what qualities of  islam are good mohammed pbuh replied to feed the poor and greet those whom you know and those whom rt @bbassem7 the rebel leader from ahrar that was assassinated earlier had praised the terrorists that carried out paris attack  keep going #khilafah lions  listen people   to jahannem  #baqiyah   rt @imamgoogle 18 graphic  look at what shia militias are doing to muslim civilians in iraq  rt @nikore the feeling  when people in darulkufr read dabiq before you  rt @valeriodec expected 20c tonight at the macedoniaserbia border that #refugee families are crossing at risk of freezing  rt @abouds no person knows what he will earn tomorrow  quran 313 rt @omarmadaniah               #   rt @aejkhalil  rt @qabdoow2016 @hasnn556 @tma055 @nooaary123 @dhooo7790              rt @hosammuhammad91 @abuaziz20131 @dhooo7790 @jtab3 @biigboss12 @wwwatan @aloudnada1       '"
      ]
     },
     "execution_count": 174,
     "metadata": {},
     "output_type": "execute_result"
    }
   ],
   "source": [
    "docs[3]"
   ]
  },
  {
   "cell_type": "code",
   "execution_count": 175,
   "metadata": {
    "collapsed": false
   },
   "outputs": [
    {
     "data": {
      "text/plain": [
       "33    abubakerdimshqi\n",
       "Name: username, dtype: object"
      ]
     },
     "execution_count": 175,
     "metadata": {},
     "output_type": "execute_result"
    }
   ],
   "source": [
    "df[df.tweets.str.contains('best geaneration ever takbirrr', na=False)].username"
   ]
  },
  {
   "cell_type": "code",
   "execution_count": 176,
   "metadata": {
    "collapsed": false
   },
   "outputs": [
    {
     "data": {
      "text/plain": [
       "31    YazeedDhardaa25\n",
       "Name: username, dtype: object"
      ]
     },
     "execution_count": 176,
     "metadata": {},
     "output_type": "execute_result"
    }
   ],
   "source": [
    "df[df.tweets.str.contains('salamu alaykum im back do supports', na=False)].username"
   ]
  },
  {
   "cell_type": "code",
   "execution_count": 180,
   "metadata": {
    "collapsed": false
   },
   "outputs": [],
   "source": [
    "cos_sim = cosine_similarity(model.components_,model.components_)"
   ]
  },
  {
   "cell_type": "code",
   "execution_count": 182,
   "metadata": {
    "collapsed": false
   },
   "outputs": [
    {
     "data": {
      "image/png": "[encoded data removed]",
      "text/plain": [
       "<matplotlib.figure.Figure at 0x7f8ef063d748>"
      ]
     },
     "metadata": {},
     "output_type": "display_data"
    }
   ],
   "source": [
    "ax_1 = sns.heatmap(cos_sim, cmap=\"RdBu_r\", annot=False)"
   ]
  },
  {
   "cell_type": "code",
   "execution_count": 183,
   "metadata": {
    "collapsed": false
   },
   "outputs": [],
   "source": [
    "words = sorted([(i,v) for v,i in Tfidf_vectorizer.vocabulary_.items()])\n",
    "topic_words = []\n",
    "for r in model.components_:\n",
    "    a = sorted([(v,i) for i,v in enumerate(r)],reverse=True)[0:7]\n",
    "    topic_words.append([words[e[1]] for e in a])"
   ]
  },
  {
   "cell_type": "code",
   "execution_count": 184,
   "metadata": {
    "collapsed": false
   },
   "outputs": [
    {
     "data": {
      "text/plain": [
       "[[(116232, 'isis'),\n",
       "  (199474, 'rt'),\n",
       "  (233606, 'syria'),\n",
       "  (129849, 'killed'),\n",
       "  (25036, 'army'),\n",
       "  (10744, 'aleppo'),\n",
       "  (269089, 'ypg')],\n",
       " [(17242, 'amaqagency'),\n",
       "  (120028, 'islamicstate'),\n",
       "  (42259, 'breaking islamicstate'),\n",
       "  (41979, 'breaking'),\n",
       "  (17385, 'amaqagency islamicstate'),\n",
       "  (120181, 'islamicstate fighters'),\n",
       "  (86238, 'fighters')],\n",
       " [(18556, 'amp'),\n",
       "  (226724, 'state'),\n",
       "  (119685, 'islamic state'),\n",
       "  (119534, 'islamic'),\n",
       "  (63753, 'dawlah'),\n",
       "  (13261, 'allah'),\n",
       "  (133064, 'kronykal')],\n",
       " [(51594, 'city'),\n",
       "  (45802, 'caliphatenew'),\n",
       "  (45848, 'caliphatenews'),\n",
       "  (263944, 'wilayatninawa'),\n",
       "  (120028, 'islamicstate'),\n",
       "  (263775, 'wilayathalab'),\n",
       "  (10278, 'albattarengl')],\n",
       " [(199474, 'rt'),\n",
       "  (13261, 'allah'),\n",
       "  (188211, 'ramiallolah'),\n",
       "  (204118, 'rt ramiallolah'),\n",
       "  (18556, 'amp'),\n",
       "  (116232, 'isis'),\n",
       "  (174015, 'people')]]"
      ]
     },
     "execution_count": 184,
     "metadata": {},
     "output_type": "execute_result"
    }
   ],
   "source": [
    "topic_words"
   ]
  },
  {
   "cell_type": "markdown",
   "metadata": {},
   "source": [
    "-----"
   ]
  },
  {
   "cell_type": "markdown",
   "metadata": {},
   "source": [
    "--------"
   ]
  },
  {
   "cell_type": "markdown",
   "metadata": {},
   "source": [
    "Examples of clergy they like the most: “Anwar Awlaki”, “Ahmad Jibril”, “Ibn Taymiyyah”, “Abdul Wahhab”. Examples of clergy that they hate the most: “Hamza Yusuf”, “Suhaib Webb”, “Yaser Qadhi”, “Nouman Ali Khan”, “Yaqoubi”."
   ]
  },
  {
   "cell_type": "code",
   "execution_count": 20,
   "metadata": {
    "collapsed": false
   },
   "outputs": [
    {
     "data": {
      "text/plain": [
       "DBSCAN(algorithm='auto', eps=0.5, leaf_size=30, metric='euclidean',\n",
       "    min_samples=5, p=None, random_state=111)"
      ]
     },
     "execution_count": 20,
     "metadata": {},
     "output_type": "execute_result"
    }
   ],
   "source": [
    "dbscan = DBSCAN(random_state=111)\n",
    "dbscan"
   ]
  },
  {
   "cell_type": "code",
   "execution_count": null,
   "metadata": {
    "collapsed": true
   },
   "outputs": [],
   "source": [
    "dbscan.labels_"
   ]
  },
  {
   "cell_type": "markdown",
   "metadata": {},
   "source": [
    "## Creating Graph Edges"
   ]
  },
  {
   "cell_type": "markdown",
   "metadata": {},
   "source": [
    "#### Currently: \n",
    "We have occurences of username strings in all tweets from each user\n",
    "\n",
    "\n",
    "#### We would like: \n",
    "agrregated pairwise co-occurrence of character strings in tweet for each username, Normalized by the sum of all tweet from both usernames being compared."
   ]
  }
 ],
 "metadata": {
  "kernelspec": {
   "display_name": "Python 3",
   "language": "python",
   "name": "python3"
  },
  "language_info": {
   "codemirror_mode": {
    "name": "ipython",
    "version": 3
   },
   "file_extension": ".py",
   "mimetype": "text/x-python",
   "name": "python",
   "nbconvert_exporter": "python",
   "pygments_lexer": "ipython3",
   "version": "3.5.1"
  }
 },
 "nbformat": 4,
 "nbformat_minor": 0
}

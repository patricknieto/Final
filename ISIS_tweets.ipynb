{
 "cells": [
  {
   "cell_type": "code",
   "execution_count": 1,
   "metadata": {
    "collapsed": false
   },
   "outputs": [
    {
     "data": {
      "text/html": [
       "<style>.container { width:99% !important; }</style>"
      ],
      "text/plain": [
       "<IPython.core.display.HTML object>"
      ]
     },
     "metadata": {},
     "output_type": "display_data"
    }
   ],
   "source": [
    "from IPython.core.display import display, HTML\n",
    "display(HTML(\"<style>.container { width:99% !important; }</style>\"))"
   ]
  },
  {
   "cell_type": "code",
   "execution_count": 2,
   "metadata": {
    "collapsed": false
   },
   "outputs": [],
   "source": [
    "import pandas as pd\n",
    "import csv\n",
    "import os\n",
    "import numpy\n",
    "import copy\n",
    "%matplotlib inline\n",
    "import numpy as np\n",
    "import seaborn as sns\n",
    "import re\n",
    "from sklearn.feature_extraction.text import TfidfVectorizer, CountVectorizer\n",
    "from gensim import corpora, models, similarities, matutils\n",
    "from gensim.corpora.dictionary import Dictionary\n",
    "from sklearn.cluster import DBSCAN\n",
    "from sklearn.decomposition import NMF, PCA\n",
    "import matplotlib as mpl\n",
    "import matplotlib.pyplot as plt"
   ]
  },
  {
   "cell_type": "code",
   "execution_count": 3,
   "metadata": {
    "collapsed": false
   },
   "outputs": [],
   "source": [
    "from collections import Counter, defaultdict, OrderedDict\n",
    "import seaborn as sns"
   ]
  },
  {
   "cell_type": "code",
   "execution_count": 4,
   "metadata": {
    "collapsed": true
   },
   "outputs": [],
   "source": [
    "import matplotlib.pyplot as plt\n",
    "\n",
    "#Some nice plotting params\n",
    "mpl.rcParams['figure.figsize'] = (8,5)\n",
    "mpl.rcParams['lines.linewidth'] = 3\n",
    "plt.style.use('ggplot')"
   ]
  },
  {
   "cell_type": "markdown",
   "metadata": {},
   "source": [
    "# Load ISIS data set and clean tweets"
   ]
  },
  {
   "cell_type": "code",
   "execution_count": 5,
   "metadata": {
    "collapsed": false
   },
   "outputs": [],
   "source": [
    "df = pd.read_csv('/media/patrick/MY_EXTERNAL/ISIS/tweets.csv', parse_dates= [6])"
   ]
  },
  {
   "cell_type": "code",
   "execution_count": 6,
   "metadata": {
    "collapsed": false,
    "scrolled": true
   },
   "outputs": [],
   "source": [
    "df.username = df.username.str.lower()"
   ]
  },
  {
   "cell_type": "code",
   "execution_count": 34,
   "metadata": {
    "collapsed": false
   },
   "outputs": [],
   "source": [
    "import re\n",
    " \n",
    "emoticons_str = r\"\"\"\n",
    "    (?:\n",
    "        [:=;] # Eyes\n",
    "        [oO\\-]? # Nose (optional)\n",
    "        [D\\)\\]\\(\\]/\\\\OpP] # Mouth\n",
    "    )\"\"\"\n",
    " \n",
    "regex_str = [\n",
    "    emoticons_str,\n",
    "    r'<[^>]+>', # HTML tags\n",
    "    r'(?:@[\\w_]+)', # @-mentions\n",
    "    r\"(?:\\#+[\\w_]+[\\w\\'_\\-]*[\\w_]+)\", # hash-tags\n",
    "    r'http[s]?://(?:[a-z]|[0-9]|[$-_@.&+]|[!*\\(\\),]|(?:%[0-9a-f][0-9a-f]))+', # URLs\n",
    " \n",
    "    r'(?:(?:\\d+,?)+(?:\\.?\\d+)?)', # numbers\n",
    "    r\"(?:[a-z][a-z'\\-_]+[a-z])\", # words with - and '\n",
    "    r'(?:[\\w_]+)', # other words\n",
    "    r'(?:\\S)' # anything else\n",
    "]\n",
    "    \n",
    "tokens_re = re.compile(r'('+'|'.join(regex_str)+')', re.VERBOSE | re.IGNORECASE)\n",
    "emoticon_re = re.compile(r'^'+emoticons_str+'$', re.VERBOSE | re.IGNORECASE)\n",
    " \n",
    "def tokenize(s):\n",
    "    return tokens_re.findall(s)\n",
    " \n",
    "def preprocess(s, lowercase=False):\n",
    "    tokens = tokenize(s)\n",
    "    if lowercase:\n",
    "        tokens = [token if emoticon_re.search(token) else token.lower() for token in tokens]\n",
    "    return tokens"
   ]
  },
  {
   "cell_type": "code",
   "execution_count": 35,
   "metadata": {
    "collapsed": false
   },
   "outputs": [],
   "source": [
    "def clean_tweet(tweet):\n",
    "    ext = \"http\"\n",
    "    text = tweet[:tweet.find(ext)].lower()\n",
    "    text = re.sub(\"[^\\S]\", \" \", text)\n",
    "    text = re.sub(\"english translation \", \"\", text)\n",
    "    textOnly = re.sub(\"[^a-zA-Z0-9@# ]\", \"\", text)\n",
    "    return(textOnly)"
   ]
  },
  {
   "cell_type": "code",
   "execution_count": 36,
   "metadata": {
    "collapsed": true
   },
   "outputs": [],
   "source": [
    "def remove_users(tweet):\n",
    "    text = tweet.lower()\n",
    "    textOnly = re.sub(r\"@\\w+\", \"\", text)\n",
    "    return(textOnly)"
   ]
  },
  {
   "cell_type": "code",
   "execution_count": 54,
   "metadata": {
    "collapsed": false,
    "scrolled": true
   },
   "outputs": [],
   "source": [
    "df.tweets = df.tweets.apply(clean_tweet)"
   ]
  },
  {
   "cell_type": "code",
   "execution_count": 84,
   "metadata": {
    "collapsed": false
   },
   "outputs": [],
   "source": [
    "infoDict = OrderedDict()\n",
    "for r in df[['username','tweets']].iterrows():\n",
    "    match = re.search('^rt', r[1][1])\n",
    "    if match:\n",
    "        m = list(re.findall(r\"@\\w+\", r[1][1]))\n",
    "        if m:\n",
    "            username=m[0][1:]\n",
    "            tweet=r[1][1][len('rt ' + m[0]):] +' @' + r[1][0]\n",
    "    else:\n",
    "        username=r[1][0]\n",
    "        tweet=r[1][1]\n",
    "    if username not in infoDict:\n",
    "        user = {}\n",
    "        user['affil'] = []\n",
    "        user['hashtags'] = []\n",
    "        user['tweets'] = []\n",
    "        user['doc'] = ''\n",
    "        infoDict[username] = user\n",
    "    if tweet not in infoDict[username]['tweets']:\n",
    "        infoDict[username]['tweets'].append(tweet)\n",
    "        infoDict[username]['doc']+=' ' + tweet\n",
    "    infoDict[username]['hashtags'].extend(re.findall('(?<=#)\\w+', tweet))\n",
    "    infoDict[username]['affil'].extend(re.findall('(?<=@)\\w+', tweet))"
   ]
  },
  {
   "cell_type": "markdown",
   "metadata": {},
   "source": [
    "### Treat all the tweets from one user as a single document and vectorize"
   ]
  },
  {
   "cell_type": "code",
   "execution_count": 85,
   "metadata": {
    "collapsed": false
   },
   "outputs": [
    {
     "data": {
      "text/plain": [
       "1575"
      ]
     },
     "execution_count": 85,
     "metadata": {},
     "output_type": "execute_result"
    }
   ],
   "source": [
    "len(infoDict)"
   ]
  },
  {
   "cell_type": "code",
   "execution_count": 72,
   "metadata": {
    "collapsed": true
   },
   "outputs": [],
   "source": [
    "docs = [v['doc'] for k, v in infoDict.items()]"
   ]
  },
  {
   "cell_type": "code",
   "execution_count": 76,
   "metadata": {
    "collapsed": false
   },
   "outputs": [],
   "source": [
    "Tfidf_vectorizer = TfidfVectorizer(analyzer='word', tokenizer=tokenize,\n",
    "                                  ngram_range=(1,1), stop_words='english',\n",
    "                                  token_pattern='\\\\b[a-z][a-z]+\\\\b')\n",
    "tfidf_docs = Tfidf_vectorizer.fit_transform(docs)"
   ]
  },
  {
   "cell_type": "code",
   "execution_count": null,
   "metadata": {
    "collapsed": false
   },
   "outputs": [],
   "source": [
    "count_vectorizer = CountVectorizer(analyzer='word',\n",
    "                                  ngram_range=(1,3), stop_words='english',\n",
    "                                  token_pattern='\\\\b[a-z][a-z]+\\\\b')\n",
    "cv_tweets = count_vectorizer.fit_transform(docs)"
   ]
  },
  {
   "cell_type": "markdown",
   "metadata": {},
   "source": [
    "treat each tweets seperately"
   ]
  },
  {
   "cell_type": "code",
   "execution_count": null,
   "metadata": {
    "collapsed": true
   },
   "outputs": [],
   "source": [
    "Tfidf_vectorizer = TfidfVectorizer(analyzer='word', tokenizer=tokenize,\n",
    "                                  ngram_range=(1,2), stop_words='english',\n",
    "                                  token_pattern='\\\\b[a-z][a-z]+\\\\b')\n",
    "tfidf_tweets = Tfidf_vectorizer.fit_transform(df.tweets)"
   ]
  },
  {
   "cell_type": "markdown",
   "metadata": {},
   "source": [
    "--------------------------------------------------------------------------"
   ]
  },
  {
   "cell_type": "code",
   "execution_count": 59,
   "metadata": {
    "collapsed": false
   },
   "outputs": [],
   "source": [
    "from sklearn.utils.extmath import randomized_svd\n",
    "U, Sigma, VT = randomized_svd(tfidf_docs, n_components=15,\n",
    "                                      n_iter=5,\n",
    "                                      random_state=None)"
   ]
  },
  {
   "cell_type": "code",
   "execution_count": 60,
   "metadata": {
    "collapsed": false
   },
   "outputs": [],
   "source": [
    "sigma = []\n",
    "for k,v in enumerate(Sigma):\n",
    "    sigma.append((k,v))"
   ]
  },
  {
   "cell_type": "code",
   "execution_count": 61,
   "metadata": {
    "collapsed": false,
    "scrolled": true
   },
   "outputs": [
    {
     "data": {
      "image/png": "[encoded data removed]",
      "text/plain": [
       "<matplotlib.figure.Figure at 0x7fbcbf9a3d68>"
      ]
     },
     "metadata": {},
     "output_type": "display_data"
    }
   ],
   "source": [
    "f = plt.scatter(*zip(*sigma))"
   ]
  },
  {
   "cell_type": "markdown",
   "metadata": {},
   "source": [
    "Based on the sigma values from the resulting matrix we can choose a about 5 components to use in our NMF model in order to explain the most.....?"
   ]
  },
  {
   "cell_type": "markdown",
   "metadata": {},
   "source": [
    "### NMF decomposition"
   ]
  },
  {
   "cell_type": "code",
   "execution_count": 62,
   "metadata": {
    "collapsed": false
   },
   "outputs": [
    {
     "data": {
      "text/plain": [
       "(1575, 25374)"
      ]
     },
     "execution_count": 62,
     "metadata": {},
     "output_type": "execute_result"
    }
   ],
   "source": [
    "tfidf_docs.shape"
   ]
  },
  {
   "cell_type": "code",
   "execution_count": 77,
   "metadata": {
    "collapsed": false,
    "scrolled": true
   },
   "outputs": [],
   "source": [
    "num_topics = 6\n",
    "model = NMF(n_components=num_topics, init='random', random_state=0)\n",
    "nmf = model.fit_transform(tfidf_docs)"
   ]
  },
  {
   "cell_type": "code",
   "execution_count": 78,
   "metadata": {
    "collapsed": true
   },
   "outputs": [],
   "source": [
    "doc_cluster = [list(r).index(max(r)) for r in nmf]"
   ]
  },
  {
   "cell_type": "code",
   "execution_count": 81,
   "metadata": {
    "collapsed": false
   },
   "outputs": [
    {
     "name": "stdout",
     "output_type": "stream",
     "text": [
      "[0, 0, 0, 5, 5, 0, 2, 0, 0, 5, 0, 0, 0, 0, 0, 5, 0, 0, 0, 5]\n",
      "[5, 0, 5, 5, 5, 5, 0, 5, 0, 0, 3, 5, 0, 5, 5, 0, 0, 0, 0]\n",
      "[4, 5, 0, 0, 0, 0, 0, 0, 0, 4, 5, 0, 5, 2, 5, 4, 0, 0, 5]\n",
      "[5, 0, 0, 0, 0, 0, 0, 0, 0, 0, 0, 0, 0, 0, 0, 0, 0, 0, 0, 0]\n"
     ]
    }
   ],
   "source": [
    "print (doc_cluster[0:20])\n",
    "print (doc_cluster[41:60])\n",
    "print (doc_cluster[61:80])\n",
    "print( doc_cluster[-40:-20])"
   ]
  },
  {
   "cell_type": "code",
   "execution_count": 49,
   "metadata": {
    "collapsed": false,
    "scrolled": true
   },
   "outputs": [
    {
     "name": "stdout",
     "output_type": "stream",
     "text": [
      "rt @insensibles79 #khilafahfr #furat quallah accepte notre frre abou turab al russi \n"
     ]
    }
   ],
   "source": [
    "for tweet in df[df.username == 'wayf44rerr'].tweets:\n",
    "    if 'insensibles79' in tweet:\n",
    "        print(tweet)"
   ]
  },
  {
   "cell_type": "code",
   "execution_count": 82,
   "metadata": {
    "collapsed": false
   },
   "outputs": [
    {
     "data": {
      "text/plain": [
       "{'affil': ['wayf44rerr'],\n",
       " 'doc': '  #khilafahfr #furat quallah accepte notre frre abou turab al russi @wayf44rerr',\n",
       " 'hashtags': ['khilafahfr', 'furat'],\n",
       " 'tweets': [' #khilafahfr #furat quallah accepte notre frre abou turab al russi @wayf44rerr']}"
      ]
     },
     "execution_count": 82,
     "metadata": {},
     "output_type": "execute_result"
    }
   ],
   "source": [
    "infoDict['insensibles79']"
   ]
  },
  {
   "cell_type": "code",
   "execution_count": 83,
   "metadata": {
    "collapsed": false
   },
   "outputs": [
    {
     "data": {
      "text/plain": [
       "[843, 43, 75, 55, 79, 480]"
      ]
     },
     "execution_count": 83,
     "metadata": {},
     "output_type": "execute_result"
    }
   ],
   "source": [
    "cluster_size = [0,0,0,0,0,0]\n",
    "for v in doc_cluster:\n",
    "    cluster_size[v]+=1\n",
    "cluster_size"
   ]
  },
  {
   "cell_type": "code",
   "execution_count": 92,
   "metadata": {
    "collapsed": true
   },
   "outputs": [],
   "source": [
    "data = pd.DataFrame(infoDict).T"
   ]
  },
  {
   "cell_type": "code",
   "execution_count": 93,
   "metadata": {
    "collapsed": false
   },
   "outputs": [],
   "source": [
    "data.reset_index(inplace=True)"
   ]
  },
  {
   "cell_type": "code",
   "execution_count": 98,
   "metadata": {
    "collapsed": true
   },
   "outputs": [],
   "source": [
    "data['cluster'] = doc_cluster"
   ]
  },
  {
   "cell_type": "code",
   "execution_count": 79,
   "metadata": {
    "collapsed": false,
    "scrolled": true
   },
   "outputs": [],
   "source": [
    "# create dictionary that maps a user to their specific cluster\n",
    "user_docs = {}\n",
    "for k, cluster in enumerate(doc_cluster):\n",
    "    user_docs[data['index'][k]] = cluster"
   ]
  },
  {
   "cell_type": "code",
   "execution_count": 108,
   "metadata": {
    "collapsed": false
   },
   "outputs": [],
   "source": [
    "words = sorted([(i,v) for v,i in Tfidf_vectorizer.vocabulary_.items()])\n",
    "topic_words = []\n",
    "for r in model.components_:\n",
    "    a = sorted([(v,i) for i,v in enumerate(r)],reverse=True)[0:7]\n",
    "    topic_words.append([words[e[1]] for e in a])"
   ]
  },
  {
   "cell_type": "code",
   "execution_count": 106,
   "metadata": {
    "collapsed": false
   },
   "outputs": [],
   "source": [
    "# VINNY\"S CODE!\n",
    "# Create the a list of topic words but only inlude them if they are the highest among all clusters\n",
    "# they also need to be weighted appropriately within their cluster\n",
    "\n",
    "\n",
    "word_cluster = [(list(r).index(max(r)),max(r)) for r in model.components_.transpose()]\n",
    "for i,r in enumerate(model.components_.transpose()):\n",
    "    s = sorted(r)\n",
    "    if (s[0]-s[1])/s[1]<0.25:\n",
    "        word_cluster[i] = (-1,-1)\n",
    "topic_words = []\n",
    "for c in range(6):\n",
    "    a = sorted([(v[1],i) for i,v in enumerate(word_cluster) if v[0]==c], reverse=True)[0:7]\n",
    "    topic_words.append([words[e[1]] for e in a])"
   ]
  },
  {
   "cell_type": "code",
   "execution_count": 107,
   "metadata": {
    "collapsed": false,
    "scrolled": true
   },
   "outputs": [
    {
     "data": {
      "text/plain": [
       "[[(4201, '@mobi_ayubi'),\n",
       "  (975, '#isis'),\n",
       "  (15366, 'killed'),\n",
       "  (1924, '#syria'),\n",
       "  (964, '#is'),\n",
       "  (4865, '@uncle_samcoco'),\n",
       "  (14533, 'isis')],\n",
       " [(4490, '@ramiallolah'),\n",
       "  (2523, '400'),\n",
       "  (4101, '@maghrebiq'),\n",
       "  (3559, '@freedaraa11'),\n",
       "  (5432, 'afghani'),\n",
       "  (21288, 'selfies'),\n",
       "  (16695, 'memo')],\n",
       " [(0, '#'),\n",
       "  (2818, '@abubakerdimshqi'),\n",
       "  (4729, '@suspend_me_fags'),\n",
       "  (2967, '@alamreeki4'),\n",
       "  (2912, '@afriqqiya_252'),\n",
       "  (3374, '@dabiqsweetsman'),\n",
       "  (2678, '@04_8_1437')],\n",
       " [(4938, '@wayf44rerr'),\n",
       "  (8050, 'bismillah'),\n",
       "  (2269, '11'),\n",
       "  (7489, 'b52'),\n",
       "  (2667, '942016'),\n",
       "  (4939, '@wayff44rer'),\n",
       "  (20719, 'rural')],\n",
       " [(4926, '@warrnews'),\n",
       "  (3849, '@jazrawi_saraqib'),\n",
       "  (11770, 'f16'),\n",
       "  (2597, '64'),\n",
       "  (760, '#gaza'),\n",
       "  (11125, 'earthquake'),\n",
       "  (12083, 'fighter')],\n",
       " [(4152, '@melvynlion'),\n",
       "  (2833, '@abuhumayra4'),\n",
       "  (6146, 'allah'),\n",
       "  (6597, 'amp'),\n",
       "  (3721, '@ibnkashmir_'),\n",
       "  (17426, 'muslims'),\n",
       "  (14552, 'islam')]]"
      ]
     },
     "execution_count": 107,
     "metadata": {},
     "output_type": "execute_result"
    }
   ],
   "source": [
    "topic_words"
   ]
  },
  {
   "cell_type": "markdown",
   "metadata": {},
   "source": [
    "-----"
   ]
  },
  {
   "cell_type": "markdown",
   "metadata": {},
   "source": [
    "## Creating Graph Edges"
   ]
  },
  {
   "cell_type": "markdown",
   "metadata": {},
   "source": [
    "#### Currently: \n",
    "We have occurences of username strings in all tweets from each user\n",
    "\n",
    "\n",
    "#### We would like: \n",
    "agrregated pairwise co-occurrence of character strings in tweet for each username, Normalized by the sum of all tweet from both usernames being compared."
   ]
  },
  {
   "cell_type": "code",
   "execution_count": 109,
   "metadata": {
    "collapsed": true
   },
   "outputs": [],
   "source": [
    "def is_retweet(tweet):\n",
    "    match = re.search('^rt', tweet)\n",
    "    if match:\n",
    "        return True\n",
    "    return False"
   ]
  },
  {
   "cell_type": "code",
   "execution_count": 110,
   "metadata": {
    "collapsed": false
   },
   "outputs": [],
   "source": [
    "def check_string(string):\n",
    "    return string in df.username.unique()"
   ]
  },
  {
   "cell_type": "code",
   "execution_count": 111,
   "metadata": {
    "collapsed": false
   },
   "outputs": [
    {
     "data": {
      "text/plain": [
       "5824"
      ]
     },
     "execution_count": 111,
     "metadata": {},
     "output_type": "execute_result"
    }
   ],
   "source": [
    "count=0\n",
    "rt = []\n",
    "for tweet in df.tweets:\n",
    "    m = re.findall(r\"^rt @\", tweet)\n",
    "    if m:\n",
    "        count+=1\n",
    "        rt.append(tweet)\n",
    "count\n",
    "#len(set(rt))"
   ]
  },
  {
   "cell_type": "markdown",
   "metadata": {},
   "source": [
    "NODES"
   ]
  },
  {
   "cell_type": "code",
   "execution_count": 80,
   "metadata": {
    "collapsed": true
   },
   "outputs": [],
   "source": [
    "# create the nodes for the graph. Dictionary keys as usernames \n",
    "# with each item in the value list being a connection with number of times mentioned\n",
    "# NOTE!! this is for every mentioned user\n",
    "\n",
    "\n",
    "\n",
    "nodes = defaultdict(str)\n",
    "for K, V in infoDict.items():\n",
    "    nodes[K] = [(k, v) for k,v in Counter(list(V['affil'])).items() if k != K]"
   ]
  },
  {
   "cell_type": "code",
   "execution_count": 81,
   "metadata": {
    "collapsed": false,
    "scrolled": true
   },
   "outputs": [],
   "source": [
    "matches = 0\n",
    "for k, v in list(nodes.items()):\n",
    "    if not v:\n",
    "        del nodes[k]\n",
    "        \n",
    "    for i in range(len(v)):\n",
    "        if v[i][0] == k:\n",
    "            matches+=1\n",
    "            v.remove(v[i])"
   ]
  },
  {
   "cell_type": "code",
   "execution_count": 48,
   "metadata": {
    "collapsed": false
   },
   "outputs": [],
   "source": [
    "# create the nodes for the graph. Dictionary keys as usernames \n",
    "# with each item in the value list being a connection with number of times mentioned\n",
    "# NOTE!! this is only for users within the starting data set\n",
    "\n",
    "nodes = defaultdict(str)\n",
    "for K, V in infoDict.items():\n",
    "    nodes[K] = [(k, v) for k,v in Counter(list(filter(check_string, (V['affil'])))).items() if k != K]\n",
    "for k, v in list(nodes.items()):\n",
    "    if not v:\n",
    "        del nodes[k]"
   ]
  },
  {
   "cell_type": "code",
   "execution_count": 83,
   "metadata": {
    "collapsed": false,
    "scrolled": true
   },
   "outputs": [],
   "source": [
    "#create dictionary that maps usernames to a uniqe ID and the cluster they belong to\n",
    "# user_docs = a list of documents per user\n",
    "\n",
    "ID = defaultdict()\n",
    "for k, v in enumerate(list(nodes.items())):\n",
    "    ID[v[0]] = k, user_docs[v[0]]\n",
    "    for i in range(0, len(v[1])):\n",
    "        try:\n",
    "            ID[v[1][i][0]] = k, user_docs[v[1][i][0]]\n",
    "        except:\n",
    "            pass"
   ]
  },
  {
   "cell_type": "code",
   "execution_count": 84,
   "metadata": {
    "collapsed": false,
    "scrolled": true
   },
   "outputs": [],
   "source": [
    "df2 = pd.DataFrame(ID).T"
   ]
  },
  {
   "cell_type": "code",
   "execution_count": 97,
   "metadata": {
    "collapsed": false,
    "scrolled": true
   },
   "outputs": [],
   "source": [
    "# save the nodes as a csv\n",
    "pd.DataFrame(ID).T.to_csv('/media/patrick/MY_EXTERNAL/ISIS/nodes3.csv')"
   ]
  },
  {
   "cell_type": "code",
   "execution_count": 98,
   "metadata": {
    "collapsed": false
   },
   "outputs": [],
   "source": [
    "# create dict with a source, target tied to a weight\n",
    "edge_dict = {}\n",
    "for k, v in nodes.items():\n",
    "    for i in range(len(v)):\n",
    "        try:\n",
    "            edge_dict[ID[[k][0]][0], ID[v[i][0]][0]] = v[i][1]\n",
    "        except:\n",
    "            pass"
   ]
  },
  {
   "cell_type": "code",
   "execution_count": 100,
   "metadata": {
    "collapsed": false,
    "scrolled": true
   },
   "outputs": [],
   "source": [
    "pd.DataFrame([[k[0],k[1],v] for k, v in edge_dict.items()]).to_csv('/media/patrick/MY_EXTERNAL/ISIS/edges3.csv')"
   ]
  },
  {
   "cell_type": "code",
   "execution_count": null,
   "metadata": {
    "collapsed": false
   },
   "outputs": [],
   "source": [
    "for k, v in edgeDict.items():\n",
    "    edgeDict[k] = [word for item in v for word in item if word in list(set(df.username))]\n",
    "for k, v in list(edgeDict.items()):\n",
    "    if not v:\n",
    "        del edgeDict[k]"
   ]
  },
  {
   "cell_type": "code",
   "execution_count": null,
   "metadata": {
    "collapsed": false
   },
   "outputs": [],
   "source": [
    "for k, v in edgeDict.items():\n",
    "    for name in v:\n",
    "        if name == k:\n",
    "            v.remove(name)"
   ]
  },
  {
   "cell_type": "markdown",
   "metadata": {},
   "source": [
    "-----"
   ]
  },
  {
   "cell_type": "code",
   "execution_count": 101,
   "metadata": {
    "collapsed": false
   },
   "outputs": [
    {
     "data": {
      "text/plain": [
       "{'affil': ['khadijavf',\n",
       "  'joinisnation82',\n",
       "  'princessbaqiya2',\n",
       "  'jazrawi3uud',\n",
       "  'endoftimes411',\n",
       "  'princessbaqiya2',\n",
       "  'wakasfahad10',\n",
       "  'lionerr20',\n",
       "  'skjfgyi7r6',\n",
       "  'w97788',\n",
       "  'croxetti',\n",
       "  'proj32',\n",
       "  'wilayathalab',\n",
       "  'abuq14',\n",
       "  'abuadamm',\n",
       "  'skxx59',\n",
       "  'skxx59',\n",
       "  'wilayathalab',\n",
       "  'croxetti',\n",
       "  'proj32',\n",
       "  'wilayathalab',\n",
       "  'abuq14',\n",
       "  'abuadamm',\n",
       "  'ibnunoran8',\n",
       "  'etdz101010',\n",
       "  'haditha21',\n",
       "  'wilayathalab',\n",
       "  'abuadamm',\n",
       "  'haditha21',\n",
       "  'ibnunoran8',\n",
       "  'etdz101010',\n",
       "  'wilayathalab',\n",
       "  'abuadamm',\n",
       "  'haditha21',\n",
       "  'ibnunoran8',\n",
       "  'etdz101010',\n",
       "  'wilayathalab',\n",
       "  'abuadamm',\n",
       "  'haditha21',\n",
       "  'ibnunoran8',\n",
       "  'etdz101010',\n",
       "  'wilayathalab',\n",
       "  'abuadamm',\n",
       "  'haditha21',\n",
       "  'ibnunoran8',\n",
       "  'etdz101010',\n",
       "  'wilayathalab',\n",
       "  'abuadamm',\n",
       "  'mrrman2',\n",
       "  'abuadamm',\n",
       "  'etdz101010',\n",
       "  'haditha21',\n",
       "  'ibnunoran8',\n",
       "  'wilayathalab',\n",
       "  'mrrman2',\n",
       "  'abuadamm',\n",
       "  'etdz101010',\n",
       "  'haditha21',\n",
       "  'ibnunoran8',\n",
       "  'haditha21',\n",
       "  'haditha21',\n",
       "  'ibnunoran8',\n",
       "  'etdz101010',\n",
       "  'wilayathalab',\n",
       "  'abuadamm',\n",
       "  'haditha21',\n",
       "  'ibnunoran8',\n",
       "  'etdz101010',\n",
       "  'wilayathalab',\n",
       "  'abuadamm',\n",
       "  'haditha21',\n",
       "  'ibnunoran8',\n",
       "  'etdz101010',\n",
       "  'wilayathalab',\n",
       "  'abuadamm',\n",
       "  'shooter19681',\n",
       "  'applesux',\n",
       "  'wilayatninawa',\n",
       "  'wilayatninawa',\n",
       "  'wilayatninawa',\n",
       "  'wilayatninawa',\n",
       "  'wilayatninawa',\n",
       "  'wilayatninawa',\n",
       "  'wilayatninawa',\n",
       "  'wilayatninawa',\n",
       "  'wilayatninawa',\n",
       "  'wilayatninawahere',\n",
       "  'wilayatninawa',\n",
       "  'coalitionhaqq',\n",
       "  'coalitionhaqq',\n",
       "  'abunaoufal',\n",
       "  'wilayatninawa',\n",
       "  'wilayatninawa',\n",
       "  'shammlly12',\n",
       "  'wilayatninawa',\n",
       "  'shammlly12',\n",
       "  'wilayatninawa',\n",
       "  'shammlly12',\n",
       "  'wilayatninawa',\n",
       "  'croxetti',\n",
       "  'proj32',\n",
       "  'somaliyyah',\n",
       "  'proj32',\n",
       "  'somaliyyah',\n",
       "  'shammlly12',\n",
       "  'wilayatninawa',\n",
       "  '11haqqprevails',\n",
       "  'croxetti',\n",
       "  'proj32',\n",
       "  'somaliyyah',\n",
       "  '11haqqprevails',\n",
       "  'croxetti',\n",
       "  'proj32',\n",
       "  'somaliyyah',\n",
       "  '11haqqprevails',\n",
       "  'croxetti',\n",
       "  'proj32',\n",
       "  'somaliyyah',\n",
       "  'somaliyyah',\n",
       "  'proj32',\n",
       "  '11haqqprevails',\n",
       "  'croxetti',\n",
       "  'proj32',\n",
       "  'somaliyyah',\n",
       "  'abunaoufal',\n",
       "  'wilayatninawa',\n",
       "  'croxetti',\n",
       "  '11haqqprevails',\n",
       "  'proj32',\n",
       "  'somaliyyah',\n",
       "  'abunaoufal',\n",
       "  'wilayatninawa',\n",
       "  'croxetti',\n",
       "  '11haqqprevails',\n",
       "  'proj32',\n",
       "  'somaliyyah',\n",
       "  'shammlly12',\n",
       "  'wilayatninawa',\n",
       "  'raqqasl',\n",
       "  'mobiayubi'],\n",
       " 'doc': ' @khadijavf she did that to me toojust search her na @joinisnation82 gets more interesti @princessbaqiya2 y @jazrawi3uud good to know alhamdulill filled with terror @endoftimes411 they will be captured and detaine @princessbaqiya2 feeling safe for now feeling like a touris nuclear war is coming alhamdulillah @wakasfahad10 @lionerr20 nice to hear tha @skjfgyi7r6 @w97788 okshukran kathir @croxetti @proj32 @wilayathalab @abuq14 @abuadamm then block mei dont careim not here for youim here for the ha @skxx59 the jn aq is he crying maybe bcause he was forced to do i @skxx59 why cant we access the serve @wilayathalab akhi please check ur  @croxetti @proj32 @wilayathalab @abuq14 @abuadamm idont ca @ibnunoran8 @etdz101010 @haditha21 @wilayathalab @abuadamm idont ca @haditha21 @ibnunoran8 @etdz101010 @wilayathalab @abuadamm iwont go awaydie in rag @haditha21 @ibnunoran8 @etdz101010 @wilayathalab @abuadamm i dontblock me if you want u fo @haditha21 @ibnunoran8 @etdz101010 @wilayathalab @abuadamm your a murtad to @haditha21 @ibnunoran8 @etdz101010 @wilayathalab @abuadamm im not here because of youso you cant force me what to  @mrrman2 @abuadamm @etdz101010 @haditha21 @ibnunoran8 @wilayathalab lets see whos murtad on the day of judgeme @mrrman2 @abuadamm @etdz101010 @haditha21 @ibnunoran8 oh yesallah azzawajal is the final judgei dont care if yoy judge me a murt @haditha21 allah azzawajal is the final judgei dont care you judge me a murtadyour not allah azzawaj @haditha21 @ibnunoran8 @etdz101010 @wilayathalab @abuadamm iwont go awayyou are not my rabb to command me and judge meshame on y @haditha21 @ibnunoran8 @etdz101010 @wilayathalab @abuadamm you dont know me then judge me a murtad woe to you shame on yo @haditha21 @ibnunoran8 @etdz101010 @wilayathalab @abuadamm you judge me without proofwe wil see each other on judgement day you fo alhamdulillah dawlatul islam baaqiya hopefully ansarul khilafa wil unite all mujahidin groups in southeast asia @shooter19681 @applesux yesthe propaganda of the kuffar to discredit the khilafa is so strong but its allah swt who givs guidan know who he is mujahid from sulumindanaophilippines not a risk but its already a reality @wilayatninawa post it if you wanti dont caredo it no @wilayatninawa i follow our rulesnot your @wilayatninawa i or we answer only to allah swtthe khilafa and our groupnot to @wilayatninawa you dare xpose me to the enemies wil see each other on judgement dayallah azzawajal is the best jud @wilayatninawa its you who xpose meremember thatyou wil be liable on judgement da @wilayatninawa and if you think im that dumbyour wrongim not alone herei hav companions who are like m @wilayatninawa so now you are sharing my pic via dmwhy not post it on twitter for the world to s @wilayatninawa your really really dumbdo you think im dumb to send you my real pic and reveal my real identity to someone i dont kno @wilayatninawa hahahadumb you arewe and our group intentionally did that to test how people react on twitt this guy thinks im that dumb to reveal my identity to someone like him whom i dont know no need to share those pics via dmil post them my self on twitter because thats not me hahaha @wilayatninawahere are the pics @wilayatninawa so if you think u really know mewell your wrong hahaha @coalitionhaqq whatthe pics that i gav him @coalitionhaqq thats not me and we intentionally did that to test twitter reactioncant trust anybody herethey react badly and blindl @abunaoufal @wilayatninawa no akhii just intentionaly used him as bait to test twitter reactionbeliv me dont trust anybody he @wilayatninawa so please forgive me for using you as baitallah azzawajal is the final judgemay he reward you for your deeds n intentio to all my baqiya familyplease for giv me for causing confusionits our way how to test twitter reactionour group intentionally did th we needed to see ourselves how people reactwe are many here on twitter now on monitorour study is finishedso we therefore conclud trust nobody on twitt this acount only intended for study purposesil deactivate itplease forgive me for the trouble and confusionwe needed to make it look re @shammlly12 @wilayatninawa very soryi was just tasked to do itits for our groupplease forgive m @shammlly12 @wilayatninawa yes we knowi was just tasked to do itto note i did not mention the name of our groupits confidenti @shammlly12 @wilayatninawa yeswe know that akhiour group just wanted to know or test somethingsory for the inconvenien @croxetti @proj32 @somaliyyah you dont really know the whole story aqjust bear with me and forgive m @proj32 @somaliyyah its about knowing whos who or to identify betwen fren or foe on twiter or on social med @shammlly12 @wilayatninawa yes akhithis is a bait acountintended for study onlyan expendable acou @11haqqprevails @croxetti @proj32 @somaliyyah im very sory sisteriwas just tasked to do itsory if i broke your heart or feli @11haqqprevails @croxetti @proj32 @somaliyyah if you notice i didnt mention name of our group and acted imprudent or hars @11haqqprevails @croxetti @proj32 @somaliyyah i didnt mention any sheik rightour group instructed me to be like tha @somaliyyah @proj32 cant xplain everything cause its confidentialwe are developing our own security measures on social med @11haqqprevails @croxetti @proj32 @somaliyyah everything was fake from the beginninganyway we are finishedthis acount is xpendab @abunaoufal @wilayatninawa im very sory akhii was just tasked to do itwe needed to develop our own security or how to identify companio @croxetti @11haqqprevails @proj32 @somaliyyah then who is that one perso @abunaoufal @wilayatninawa will know if its efective once we start using i @croxetti @11haqqprevails @proj32 @somaliyyah we cant blame them akhi human inteligence or maybe they know better than  @shammlly12 @wilayatninawa amee war against #is a proven failure can they stop al shabab nah 1 filipinacanadians and norwegian hostages held by #is soldiers from jolo islandmindanao philippines new photos of #is soldiers from jolo islandmindanao philipineshostages be killed if demands not meet @raqqasl @mobiayubi ha where is she now any news on he if #is takes over egyptim sure they will flatten the pyramids wipe them out from the face of the earth',\n",
       " 'hashtags': ['is', 'is', 'is', 'is'],\n",
       " 'tweets': ['@khadijavf she did that to me toojust search her na',\n",
       "  '@joinisnation82 gets more interesti',\n",
       "  '@princessbaqiya2 y',\n",
       "  '@jazrawi3uud good to know alhamdulill',\n",
       "  'filled with terror',\n",
       "  '@endoftimes411 they will be captured and detaine',\n",
       "  '@princessbaqiya2 feeling safe for now feeling like a touris',\n",
       "  'nuclear war is coming',\n",
       "  'alhamdulillah',\n",
       "  '@wakasfahad10 @lionerr20 nice to hear tha',\n",
       "  '@skjfgyi7r6 @w97788 okshukran kathir',\n",
       "  '@croxetti @proj32 @wilayathalab @abuq14 @abuadamm then block mei dont careim not here for youim here for the ha',\n",
       "  '@skxx59 the jn aq is he crying maybe bcause he was forced to do i',\n",
       "  '@skxx59 why cant we access the serve',\n",
       "  '@wilayathalab akhi please check ur ',\n",
       "  '@croxetti @proj32 @wilayathalab @abuq14 @abuadamm idont ca',\n",
       "  '@ibnunoran8 @etdz101010 @haditha21 @wilayathalab @abuadamm idont ca',\n",
       "  '@haditha21 @ibnunoran8 @etdz101010 @wilayathalab @abuadamm iwont go awaydie in rag',\n",
       "  '@haditha21 @ibnunoran8 @etdz101010 @wilayathalab @abuadamm i dontblock me if you want u fo',\n",
       "  '@haditha21 @ibnunoran8 @etdz101010 @wilayathalab @abuadamm your a murtad to',\n",
       "  '@haditha21 @ibnunoran8 @etdz101010 @wilayathalab @abuadamm im not here because of youso you cant force me what to ',\n",
       "  '@mrrman2 @abuadamm @etdz101010 @haditha21 @ibnunoran8 @wilayathalab lets see whos murtad on the day of judgeme',\n",
       "  '@mrrman2 @abuadamm @etdz101010 @haditha21 @ibnunoran8 oh yesallah azzawajal is the final judgei dont care if yoy judge me a murt',\n",
       "  '@haditha21 allah azzawajal is the final judgei dont care you judge me a murtadyour not allah azzawaj',\n",
       "  '@haditha21 @ibnunoran8 @etdz101010 @wilayathalab @abuadamm iwont go awayyou are not my rabb to command me and judge meshame on y',\n",
       "  '@haditha21 @ibnunoran8 @etdz101010 @wilayathalab @abuadamm you dont know me then judge me a murtad woe to you shame on yo',\n",
       "  '@haditha21 @ibnunoran8 @etdz101010 @wilayathalab @abuadamm you judge me without proofwe wil see each other on judgement day you fo',\n",
       "  'alhamdulillah dawlatul islam baaqiya hopefully ansarul khilafa wil unite all mujahidin groups in southeast asia',\n",
       "  '@shooter19681 @applesux yesthe propaganda of the kuffar to discredit the khilafa is so strong but its allah swt who givs guidan',\n",
       "  'know who he is mujahid from sulumindanaophilippines',\n",
       "  'not a risk but its already a reality',\n",
       "  '@wilayatninawa post it if you wanti dont caredo it no',\n",
       "  '@wilayatninawa i follow our rulesnot your',\n",
       "  '@wilayatninawa i or we answer only to allah swtthe khilafa and our groupnot to',\n",
       "  '@wilayatninawa you dare xpose me to the enemies wil see each other on judgement dayallah azzawajal is the best jud',\n",
       "  '@wilayatninawa its you who xpose meremember thatyou wil be liable on judgement da',\n",
       "  '@wilayatninawa and if you think im that dumbyour wrongim not alone herei hav companions who are like m',\n",
       "  '@wilayatninawa so now you are sharing my pic via dmwhy not post it on twitter for the world to s',\n",
       "  '@wilayatninawa your really really dumbdo you think im dumb to send you my real pic and reveal my real identity to someone i dont kno',\n",
       "  '@wilayatninawa hahahadumb you arewe and our group intentionally did that to test how people react on twitt',\n",
       "  'this guy thinks im that dumb to reveal my identity to someone like him whom i dont know',\n",
       "  'no need to share those pics via dmil post them my self on twitter because thats not me hahaha',\n",
       "  '@wilayatninawahere are the pics',\n",
       "  '@wilayatninawa so if you think u really know mewell your wrong hahaha',\n",
       "  '@coalitionhaqq whatthe pics that i gav him',\n",
       "  '@coalitionhaqq thats not me and we intentionally did that to test twitter reactioncant trust anybody herethey react badly and blindl',\n",
       "  '@abunaoufal @wilayatninawa no akhii just intentionaly used him as bait to test twitter reactionbeliv me dont trust anybody he',\n",
       "  '@wilayatninawa so please forgive me for using you as baitallah azzawajal is the final judgemay he reward you for your deeds n intentio',\n",
       "  'to all my baqiya familyplease for giv me for causing confusionits our way how to test twitter reactionour group intentionally did th',\n",
       "  'we needed to see ourselves how people reactwe are many here on twitter now on monitorour study is finishedso we therefore conclud',\n",
       "  'trust nobody on twitt',\n",
       "  'this acount only intended for study purposesil deactivate itplease forgive me for the trouble and confusionwe needed to make it look re',\n",
       "  '@shammlly12 @wilayatninawa very soryi was just tasked to do itits for our groupplease forgive m',\n",
       "  '@shammlly12 @wilayatninawa yes we knowi was just tasked to do itto note i did not mention the name of our groupits confidenti',\n",
       "  '@shammlly12 @wilayatninawa yeswe know that akhiour group just wanted to know or test somethingsory for the inconvenien',\n",
       "  '@croxetti @proj32 @somaliyyah you dont really know the whole story aqjust bear with me and forgive m',\n",
       "  '@proj32 @somaliyyah its about knowing whos who or to identify betwen fren or foe on twiter or on social med',\n",
       "  '@shammlly12 @wilayatninawa yes akhithis is a bait acountintended for study onlyan expendable acou',\n",
       "  '@11haqqprevails @croxetti @proj32 @somaliyyah im very sory sisteriwas just tasked to do itsory if i broke your heart or feli',\n",
       "  '@11haqqprevails @croxetti @proj32 @somaliyyah if you notice i didnt mention name of our group and acted imprudent or hars',\n",
       "  '@11haqqprevails @croxetti @proj32 @somaliyyah i didnt mention any sheik rightour group instructed me to be like tha',\n",
       "  '@somaliyyah @proj32 cant xplain everything cause its confidentialwe are developing our own security measures on social med',\n",
       "  '@11haqqprevails @croxetti @proj32 @somaliyyah everything was fake from the beginninganyway we are finishedthis acount is xpendab',\n",
       "  '@abunaoufal @wilayatninawa im very sory akhii was just tasked to do itwe needed to develop our own security or how to identify companio',\n",
       "  '@croxetti @11haqqprevails @proj32 @somaliyyah then who is that one perso',\n",
       "  '@abunaoufal @wilayatninawa will know if its efective once we start using i',\n",
       "  '@croxetti @11haqqprevails @proj32 @somaliyyah we cant blame them akhi human inteligence or maybe they know better than ',\n",
       "  '@shammlly12 @wilayatninawa amee',\n",
       "  'war against #is a proven failure',\n",
       "  'can they stop al shabab nah',\n",
       "  '1 filipinacanadians and norwegian hostages held by #is soldiers from jolo islandmindanao philippines',\n",
       "  'new photos of #is soldiers from jolo islandmindanao philipineshostages be killed if demands not meet',\n",
       "  '@raqqasl @mobiayubi ha where is she now any news on he',\n",
       "  'if #is takes over egyptim sure they will flatten the pyramids wipe them out from the face of the earth']}"
      ]
     },
     "execution_count": 101,
     "metadata": {},
     "output_type": "execute_result"
    }
   ],
   "source": [
    "infoDict['whitecat_7']"
   ]
  },
  {
   "cell_type": "markdown",
   "metadata": {},
   "source": [
    "Time series analysis of all tweets grouped by day"
   ]
  },
  {
   "cell_type": "code",
   "execution_count": 7,
   "metadata": {
    "collapsed": false,
    "scrolled": true
   },
   "outputs": [],
   "source": [
    "df.time = pd.to_datetime(df.time)"
   ]
  },
  {
   "cell_type": "code",
   "execution_count": 212,
   "metadata": {
    "collapsed": false
   },
   "outputs": [],
   "source": [
    "from scipy import interpolate\n",
    "import seaborn as sns"
   ]
  },
  {
   "cell_type": "code",
   "execution_count": 129,
   "metadata": {
    "collapsed": true
   },
   "outputs": [],
   "source": [
    "def movingaverage(interval, window_size):\n",
    "    window = numpy.ones(int(window_size))/float(window_size)\n",
    "    return numpy.convolve(interval, window, 'same')"
   ]
  },
  {
   "cell_type": "code",
   "execution_count": 12,
   "metadata": {
    "collapsed": false
   },
   "outputs": [],
   "source": [
    "perhr = df.set_index(df['time']).resample('D', how='count')"
   ]
  },
  {
   "cell_type": "code",
   "execution_count": 13,
   "metadata": {
    "collapsed": false
   },
   "outputs": [
    {
     "data": {
      "text/plain": [
       "<matplotlib.axes._subplots.AxesSubplot at 0x7fbcc04276a0>"
      ]
     },
     "execution_count": 13,
     "metadata": {},
     "output_type": "execute_result"
    },
    {
     "data": {
      "image/png": "[encoded data removed]",
      "text/plain": [
       "<matplotlib.figure.Figure at 0x7fbcc0430c50>"
      ]
     },
     "metadata": {},
     "output_type": "display_data"
    }
   ],
   "source": [
    "pd.rolling_mean(perhr, window=7).tweets['2016-01-01':].plot()"
   ]
  },
  {
   "cell_type": "code",
   "execution_count": 217,
   "metadata": {
    "collapsed": false,
    "scrolled": false
   },
   "outputs": [
    {
     "data": {
      "image/png": "[encoded data removed]",
      "text/plain": [
       "<matplotlib.figure.Figure at 0x7fbcb3d69fd0>"
      ]
     },
     "metadata": {},
     "output_type": "display_data"
    }
   ],
   "source": [
    "fig, ax = plt.subplots(figsize = (20,8))\n",
    "\n",
    "perhr['2016-01-01':].numberstatuses.interpolate(method='linear').plot(ax = ax, color=\"black\", fontsize=12, alpha=0.1)\n",
    "pd.rolling_mean(perhr, window=7).tweets['2016-01-01':].plot(color ='r')\n",
    "\n",
    "#sns.timeseries(perhr, ax=ax)\n",
    "\n",
    "yemen = '2016-01-29'\n",
    "brussels = '2016-03-22'\n",
    "\n",
    "\n",
    "# ax.plot(yemen,183,color = 'r',\n",
    "#         marker = 'o',\n",
    "#         markersize = 20, \n",
    "#         linestyle = '',\n",
    "#        markeredgewidth = 1.5\n",
    "#        )\n",
    "\n",
    "# ax.plot(brussels,183,color = 'r',\n",
    "#         marker = 'v',\n",
    "#         markersize = 20, \n",
    "#         linestyle = '',\n",
    "#        markeredgewidth = 1.5\n",
    "#        )\n",
    "\n",
    "\n",
    "ax.annotate('Bombing in Brussels',xy=(brussels, 200),xytext=('2016-03-03', 310),\n",
    "            arrowprops=dict(facecolor='white', shrink=0.05), size=15)\n",
    "\n",
    "ax.annotate('Car bombing in Yemen',xy=(yemen, 200),xytext=('2016-01-10', 310),\n",
    "            arrowprops=dict(facecolor='white', shrink=0.05),size=15)\n",
    "\n",
    "ax.margins(None,0.1)\n",
    "ax.legend(['Tweets Per Day','7-Day Rolling Average'], loc = 'upper right',\n",
    "           numpoints = 1, labelspacing = 2.0, fontsize = 14)\n",
    "ax.set_xlabel('Date')\n",
    "ax.set_ylabel('Number of Tweets')\n",
    "#ax.set_title('Frequency of ISIS Tweets in 2016')\n",
    "\n",
    "# ax.spines['bottom'].set_color('w')\n",
    "# ax.spines['top'].set_color('w') \n",
    "# ax.spines['right'].set_color('w')\n",
    "# ax.spines['left'].set_color('w')\n",
    "\n",
    "# ax.tick_params(axis='x', colors='w')\n",
    "# ax.tick_params(axis='y', colors='w')\n",
    "\n",
    "# ax.yaxis.label.set_color('w')\n",
    "# ax.xaxis.label.set_color('w')\n",
    "\n",
    "# ax.set_axis_bgcolor('w')\n",
    "fig.savefig('temp.png')\n",
    "plt.show()"
   ]
  },
  {
   "cell_type": "code",
   "execution_count": 161,
   "metadata": {
    "collapsed": false,
    "scrolled": true
   },
   "outputs": [],
   "source": [
    "data2 = pd.DataFrame(columns=['username', 'tweets'])\n",
    "for r in data.iterrows():\n",
    "    for tweet in r[1][4]:\n",
    "        #print(r[1][0])\n",
    "        #temp = pd.DataFrame([[r[1][0], tweet]], columns=['username', 'tweets'])\n",
    "        data2 = data2.append(pd.DataFrame([[r[1][0], tweet]], columns=['username', 'tweets'] ), ignore_index=True)"
   ]
  },
  {
   "cell_type": "code",
   "execution_count": null,
   "metadata": {
    "collapsed": true
   },
   "outputs": [],
   "source": [
    "data2['topic'] = np.argmax(model.transform(Tfidf_vectorizer.transform(data2.tweets)), axis=1)"
   ]
  },
  {
   "cell_type": "code",
   "execution_count": 223,
   "metadata": {
    "collapsed": false
   },
   "outputs": [
    {
     "data": {
      "text/plain": [
       "<matplotlib.text.Text at 0x7fbcb398b5f8>"
      ]
     },
     "execution_count": 223,
     "metadata": {},
     "output_type": "execute_result"
    },
    {
     "data": {
      "image/png": "[encoded data removed]",
      "text/plain": [
       "<matplotlib.figure.Figure at 0x7fbcb3a683c8>"
      ]
     },
     "metadata": {},
     "output_type": "display_data"
    }
   ],
   "source": [
    "fig, ax = plt.subplots(figsize = (20,15))\n",
    "my_colors = 'gbykmr'\n",
    "\n",
    "top10_users = data2[data2.username.isin(data2.username.value_counts()[:10].keys().tolist())]\n",
    "tb = pd.crosstab(top10_users.username, top10_users.topic)\n",
    "tb['sum'] = tb.sum(axis=1)\n",
    "pd.crosstab(top10_users.username, top10_users.topic).plot(kind='barh',stacked=True, figsize=(16, 10), color=my_colors, ax = ax)\n",
    "#tb.sort_values('sum', ascending=False).iloc[:,:5].plot(kind='barh',stacked=True, figsize=(16, 10), colormap=\"Dark2\", ax =ax)\n",
    "\n",
    "\n",
    "\n",
    "ax.legend(['Reporters','Other','Mujadeen','inteluectuals','other','Fanboys'], loc = 'upper right', numpoints = 1, labelspacing = 2.0, fontsize = 14)\n",
    "ax.set_title('10 Most Frequent Users')\n",
    "ax.set_xlabel('Number of Tweets')"
   ]
  },
  {
   "cell_type": "code",
   "execution_count": null,
   "metadata": {
    "collapsed": true
   },
   "outputs": [],
   "source": []
  }
 ],
 "metadata": {
  "kernelspec": {
   "display_name": "Python 3",
   "language": "python",
   "name": "python3"
  },
  "language_info": {
   "codemirror_mode": {
    "name": "ipython",
    "version": 3
   },
   "file_extension": ".py",
   "mimetype": "text/x-python",
   "name": "python",
   "nbconvert_exporter": "python",
   "pygments_lexer": "ipython3",
   "version": "3.5.1"
  }
 },
 "nbformat": 4,
 "nbformat_minor": 0
}

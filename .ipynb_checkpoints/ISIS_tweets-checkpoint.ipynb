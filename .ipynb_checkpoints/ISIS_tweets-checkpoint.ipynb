{
 "cells": [
  {
   "cell_type": "code",
   "execution_count": 1,
   "metadata": {
    "collapsed": false
   },
   "outputs": [
    {
     "data": {
      "text/html": [
       "<style>.container { width:99% !important; }</style>"
      ],
      "text/plain": [
       "<IPython.core.display.HTML object>"
      ]
     },
     "metadata": {},
     "output_type": "display_data"
    }
   ],
   "source": [
    "from IPython.core.display import display, HTML\n",
    "display(HTML(\"<style>.container { width:99% !important; }</style>\"))"
   ]
  },
  {
   "cell_type": "code",
   "execution_count": 2,
   "metadata": {
    "collapsed": false
   },
   "outputs": [],
   "source": [
    "import pandas as pd\n",
    "import csv\n",
    "import os\n",
    "import numpy\n",
    "import copy\n",
    "%matplotlib inline\n",
    "import numpy as np\n",
    "import seaborn as sns\n",
    "import re\n",
    "from sklearn.feature_extraction.text import TfidfVectorizer, CountVectorizer\n",
    "from gensim import corpora, models, similarities, matutils\n",
    "from gensim.corpora.dictionary import Dictionary\n",
    "from sklearn.cluster import DBSCAN\n",
    "from sklearn.decomposition import NMF, PCA\n",
    "import matplotlib as mpl\n",
    "import matplotlib.pyplot as plt"
   ]
  },
  {
   "cell_type": "code",
   "execution_count": 3,
   "metadata": {
    "collapsed": false
   },
   "outputs": [],
   "source": [
    "from collections import Counter, defaultdict, OrderedDict\n",
    "import seaborn as sns"
   ]
  },
  {
   "cell_type": "code",
   "execution_count": 6,
   "metadata": {
    "collapsed": true
   },
   "outputs": [],
   "source": [
    "import matplotlib.pyplot as plt\n",
    "\n",
    "folder_path = 'your/directory/path'\n",
    "folder_path = '/media/patrick/MY_EXTERNAL/ISIS/'\n",
    "\n",
    "\n",
    "#plotting params\n",
    "mpl.rcParams['figure.figsize'] = (8,5)\n",
    "mpl.rcParams['lines.linewidth'] = 3\n",
    "plt.style.use('ggplot')"
   ]
  },
  {
   "cell_type": "markdown",
   "metadata": {},
   "source": [
    "# Load ISIS data set and clean tweets"
   ]
  },
  {
   "cell_type": "code",
   "execution_count": 15,
   "metadata": {
    "collapsed": false
   },
   "outputs": [],
   "source": [
    "df = pd.read_csv(folder_path+'/tweets.csv', parse_dates= [6])"
   ]
  },
  {
   "cell_type": "code",
   "execution_count": 16,
   "metadata": {
    "collapsed": false,
    "scrolled": true
   },
   "outputs": [],
   "source": [
    "df.username = df.username.str.lower()"
   ]
  },
  {
   "cell_type": "code",
   "execution_count": 17,
   "metadata": {
    "collapsed": false
   },
   "outputs": [],
   "source": [
    "import re\n",
    " \n",
    "emoticons_str = r\"\"\"\n",
    "    (?:\n",
    "        [:=;] # Eyes\n",
    "        [oO\\-]? # Nose (optional)\n",
    "        [D\\)\\]\\(\\]/\\\\OpP] # Mouth\n",
    "    )\"\"\"\n",
    " \n",
    "regex_str = [\n",
    "    emoticons_str,\n",
    "    r'<[^>]+>', # HTML tags\n",
    "    r'(?:@[\\w_]+)', # @-mentions\n",
    "    r\"(?:\\#+[\\w_]+[\\w\\'_\\-]*[\\w_]+)\", # hash-tags\n",
    "    r'http[s]?://(?:[a-z]|[0-9]|[$-_@.&+]|[!*\\(\\),]|(?:%[0-9a-f][0-9a-f]))+', # URLs\n",
    " \n",
    "    r'(?:(?:\\d+,?)+(?:\\.?\\d+)?)', # numbers\n",
    "    r\"(?:[a-z][a-z'\\-_]+[a-z])\", # words with - and '\n",
    "    r'(?:[\\w_]+)', # other words\n",
    "    r'(?:\\S)' # anything else\n",
    "]\n",
    "    \n",
    "tokens_re = re.compile(r'('+'|'.join(regex_str)+')', re.VERBOSE | re.IGNORECASE)\n",
    "emoticon_re = re.compile(r'^'+emoticons_str+'$', re.VERBOSE | re.IGNORECASE)\n",
    " \n",
    "def tokenize(s):\n",
    "    return tokens_re.findall(s)\n",
    " \n",
    "def preprocess(s, lowercase=False):\n",
    "    tokens = tokenize(s)\n",
    "    if lowercase:\n",
    "        tokens = [token if emoticon_re.search(token) else token.lower() for token in tokens]\n",
    "    return tokens"
   ]
  },
  {
   "cell_type": "code",
   "execution_count": 18,
   "metadata": {
    "collapsed": false
   },
   "outputs": [],
   "source": [
    "def clean_tweet(tweet):\n",
    "    ext = \"http\"\n",
    "    text = tweet[:tweet.find(ext)].lower()\n",
    "    text = re.sub(\"[^\\S]\", \" \", text)\n",
    "    text = re.sub(\"english translation \", \"\", text)\n",
    "    textOnly = re.sub(\"[^a-zA-Z0-9@# ]\", \"\", text)\n",
    "    return(textOnly)"
   ]
  },
  {
   "cell_type": "code",
   "execution_count": 19,
   "metadata": {
    "collapsed": true
   },
   "outputs": [],
   "source": [
    "def remove_users(tweet):\n",
    "    text = tweet.lower()\n",
    "    textOnly = re.sub(r\"@\\w+\", \"\", text)\n",
    "    return(textOnly)"
   ]
  },
  {
   "cell_type": "code",
   "execution_count": 20,
   "metadata": {
    "collapsed": false,
    "scrolled": true
   },
   "outputs": [],
   "source": [
    "df.tweets = df.tweets.apply(clean_tweet)"
   ]
  },
  {
   "cell_type": "markdown",
   "metadata": {},
   "source": [
    "Currently we have occurences of usernames (twitter handles) in all tweets (original tweets and mentions). We only want original tweets so we can determine who is having an influence on who. This does not mean that we should remove all retweets, but rather extract those retweets and treat them as new tweets from new users. \n",
    "\n",
    "1. GIIMedia_CH004we would like to extract every retweet from a given user and reassign that tweet to the first handle in that text string.\n",
    "\n",
    "    - For example: \"RT @GIIMedia_CH004: Rules Of Imarah Part2 - Conditions of Imamah\" would create@GIIMedia_CH004 as a new user and assign everything after his/her handle in the text string as a tweet for that user.\n",
    " \n",
    "2. we need to do create a dictionary for every user with,\n",
    "     - every user they have mentioned (affiliates),\n",
    "     - every hashtag they have used and\n",
    "     - every tweet they've sent\n",
    "\n",
    "3. consolidate every tweet for every user into one document and add it to their dictionary"
   ]
  },
  {
   "cell_type": "code",
   "execution_count": 21,
   "metadata": {
    "collapsed": false
   },
   "outputs": [],
   "source": [
    "infoDict = OrderedDict()\n",
    "for r in df[['username','tweets']].iterrows():\n",
    "    match = re.search('^rt', r[1][1])\n",
    "    if match:\n",
    "        m = list(re.findall(r\"@\\w+\", r[1][1]))\n",
    "        if m:\n",
    "            username=m[0][1:]\n",
    "            tweet=r[1][1][len('rt ' + m[0]):] +' @' + r[1][0]\n",
    "    else:\n",
    "        username=r[1][0]\n",
    "        tweet=r[1][1]\n",
    "    if username not in infoDict:\n",
    "        user = {}\n",
    "        user['affil'] = []\n",
    "        user['hashtags'] = []\n",
    "        user['tweets'] = []\n",
    "        user['doc'] = ''\n",
    "        infoDict[username] = user\n",
    "    if tweet not in infoDict[username]['tweets']:\n",
    "        infoDict[username]['tweets'].append(tweet)\n",
    "        infoDict[username]['doc']+=' ' + tweet\n",
    "    infoDict[username]['hashtags'].extend(re.findall('(?<=#)\\w+', tweet))\n",
    "    infoDict[username]['affil'].extend(re.findall('(?<=@)\\w+', tweet))"
   ]
  },
  {
   "cell_type": "markdown",
   "metadata": {},
   "source": [
    "### Treat all the tweets from one user as a single document and vectorize"
   ]
  },
  {
   "cell_type": "code",
   "execution_count": 23,
   "metadata": {
    "collapsed": false
   },
   "outputs": [
    {
     "name": "stdout",
     "output_type": "stream",
     "text": [
      "We went from 112 unique users to 1556 users\n"
     ]
    }
   ],
   "source": [
    "print('We went from 112 unique users to', len(infoDict), 'users') "
   ]
  },
  {
   "cell_type": "code",
   "execution_count": 74,
   "metadata": {
    "collapsed": true
   },
   "outputs": [],
   "source": [
    "docs = [remove_users(v['doc']) for k, v in infoDict.items()]"
   ]
  },
  {
   "cell_type": "code",
   "execution_count": 75,
   "metadata": {
    "collapsed": false
   },
   "outputs": [],
   "source": [
    "Tfidf_vectorizer = TfidfVectorizer(analyzer='word', tokenizer=tokenize,\n",
    "                                  ngram_range=(1,1), stop_words='english',\n",
    "                                  token_pattern='\\\\b[a-z][a-z]+\\\\b')\n",
    "tfidf_docs = Tfidf_vectorizer.fit_transform(docs)"
   ]
  },
  {
   "cell_type": "code",
   "execution_count": null,
   "metadata": {
    "collapsed": false
   },
   "outputs": [],
   "source": [
    "count_vectorizer = CountVectorizer(analyzer='word',\n",
    "                                  ngram_range=(1,3), stop_words='english',\n",
    "                                  token_pattern='\\\\b[a-z][a-z]+\\\\b')\n",
    "cv_tweets = count_vectorizer.fit_transform(docs)"
   ]
  },
  {
   "cell_type": "markdown",
   "metadata": {},
   "source": [
    "treat each tweets seperately"
   ]
  },
  {
   "cell_type": "code",
   "execution_count": null,
   "metadata": {
    "collapsed": true
   },
   "outputs": [],
   "source": [
    "Tfidf_vectorizer = TfidfVectorizer(analyzer='word', tokenizer=tokenize,\n",
    "                                  ngram_range=(1,2), stop_words='english',\n",
    "                                  token_pattern='\\\\b[a-z][a-z]+\\\\b')\n",
    "tfidf_tweets = Tfidf_vectorizer.fit_transform(df.tweets)"
   ]
  },
  {
   "cell_type": "markdown",
   "metadata": {},
   "source": [
    "--------------------------------------------------------------------------"
   ]
  },
  {
   "cell_type": "code",
   "execution_count": 76,
   "metadata": {
    "collapsed": false
   },
   "outputs": [],
   "source": [
    "from sklearn.utils.extmath import randomized_svd\n",
    "U, Sigma, VT = randomized_svd(tfidf_docs, n_components=15,\n",
    "                                      n_iter=5,\n",
    "                                      random_state=None)"
   ]
  },
  {
   "cell_type": "code",
   "execution_count": 77,
   "metadata": {
    "collapsed": false
   },
   "outputs": [],
   "source": [
    "sigma = []\n",
    "for k,v in enumerate(Sigma):\n",
    "    sigma.append((k,v))"
   ]
  },
  {
   "cell_type": "code",
   "execution_count": 78,
   "metadata": {
    "collapsed": false,
    "scrolled": true
   },
   "outputs": [
    {
     "data": {
      "image/png": "[encoded data removed]",
      "text/plain": [
       "<matplotlib.figure.Figure at 0x7f64d2c4d390>"
      ]
     },
     "metadata": {},
     "output_type": "display_data"
    }
   ],
   "source": [
    "f = plt.scatter(*zip(*sigma))"
   ]
  },
  {
   "cell_type": "markdown",
   "metadata": {},
   "source": [
    "Based on the sigma values from the resulting matrix we can choose about 6 components to use in our NMF model"
   ]
  },
  {
   "cell_type": "markdown",
   "metadata": {},
   "source": [
    "### NMF decomposition"
   ]
  },
  {
   "cell_type": "code",
   "execution_count": 79,
   "metadata": {
    "collapsed": false
   },
   "outputs": [
    {
     "data": {
      "text/plain": [
       "(1556, 22480)"
      ]
     },
     "execution_count": 79,
     "metadata": {},
     "output_type": "execute_result"
    }
   ],
   "source": [
    "tfidf_docs.shape"
   ]
  },
  {
   "cell_type": "code",
   "execution_count": 80,
   "metadata": {
    "collapsed": false,
    "scrolled": true
   },
   "outputs": [],
   "source": [
    "num_topics = 6\n",
    "model = NMF(n_components=num_topics, init='random', random_state=0)\n",
    "nmf = model.fit_transform(tfidf_docs)"
   ]
  },
  {
   "cell_type": "code",
   "execution_count": 81,
   "metadata": {
    "collapsed": true
   },
   "outputs": [],
   "source": [
    "doc_cluster = [list(r).index(max(r)) for r in nmf]"
   ]
  },
  {
   "cell_type": "code",
   "execution_count": 82,
   "metadata": {
    "collapsed": false
   },
   "outputs": [
    {
     "name": "stdout",
     "output_type": "stream",
     "text": [
      "[1, 3, 0, 1, 1, 2, 0, 4, 0, 1, 3, 0, 4, 4, 1, 1, 4, 0, 4, 1]\n",
      "[0, 3, 1, 1, 1, 1, 4, 1, 0, 3, 2, 1, 0, 1, 1, 2, 4, 3, 4]\n",
      "[3, 1, 1, 2, 2, 1, 3, 0, 2, 3, 1, 0, 1, 5, 1, 3, 3, 4, 1]\n",
      "[1, 0, 3, 0, 0, 2, 2, 0, 0, 0, 3, 0, 3, 3, 3, 3, 0, 3, 3, 2]\n"
     ]
    }
   ],
   "source": [
    "print (doc_cluster[0:20])\n",
    "print (doc_cluster[41:60])\n",
    "print (doc_cluster[61:80])\n",
    "print( doc_cluster[-40:-20])"
   ]
  },
  {
   "cell_type": "code",
   "execution_count": 83,
   "metadata": {
    "collapsed": false,
    "scrolled": true
   },
   "outputs": [
    {
     "name": "stdout",
     "output_type": "stream",
     "text": [
      "rt @insensibles79 #khilafahfr #furat quallah accepte notre frre abou turab al russi \n"
     ]
    }
   ],
   "source": [
    "for tweet in df[df.username == 'wayf44rerr'].tweets:\n",
    "    if 'insensibles79' in tweet:\n",
    "        print(tweet)"
   ]
  },
  {
   "cell_type": "code",
   "execution_count": 84,
   "metadata": {
    "collapsed": false
   },
   "outputs": [
    {
     "data": {
      "text/plain": [
       "{'affil': ['wayf44rerr'],\n",
       " 'doc': '  #khilafahfr #furat quallah accepte notre frre abou turab al russi  @wayf44rerr',\n",
       " 'hashtags': ['khilafahfr', 'furat'],\n",
       " 'tweets': [' #khilafahfr #furat quallah accepte notre frre abou turab al russi  @wayf44rerr']}"
      ]
     },
     "execution_count": 84,
     "metadata": {},
     "output_type": "execute_result"
    }
   ],
   "source": [
    "infoDict['insensibles79']"
   ]
  },
  {
   "cell_type": "code",
   "execution_count": 85,
   "metadata": {
    "collapsed": false
   },
   "outputs": [
    {
     "data": {
      "text/plain": [
       "[237, 565, 154, 361, 165, 74]"
      ]
     },
     "execution_count": 85,
     "metadata": {},
     "output_type": "execute_result"
    }
   ],
   "source": [
    "cluster_size = [0,0,0,0,0,0]\n",
    "for v in doc_cluster:\n",
    "    cluster_size[v]+=1\n",
    "cluster_size"
   ]
  },
  {
   "cell_type": "code",
   "execution_count": 28,
   "metadata": {
    "collapsed": true
   },
   "outputs": [],
   "source": [
    "data = pd.DataFrame(infoDict).T"
   ]
  },
  {
   "cell_type": "code",
   "execution_count": 29,
   "metadata": {
    "collapsed": false
   },
   "outputs": [],
   "source": [
    "data.reset_index(inplace=True)"
   ]
  },
  {
   "cell_type": "code",
   "execution_count": 88,
   "metadata": {
    "collapsed": true
   },
   "outputs": [],
   "source": [
    "data['cluster'] = doc_cluster"
   ]
  },
  {
   "cell_type": "code",
   "execution_count": 89,
   "metadata": {
    "collapsed": false,
    "scrolled": true
   },
   "outputs": [],
   "source": [
    "# create dictionary that maps a user to their specific cluster\n",
    "user_docs = {}\n",
    "for k, cluster in enumerate(doc_cluster):\n",
    "    user_docs[data['index'][k]] = cluster"
   ]
  },
  {
   "cell_type": "code",
   "execution_count": 90,
   "metadata": {
    "collapsed": false
   },
   "outputs": [],
   "source": [
    "words = sorted([(i,v) for v,i in Tfidf_vectorizer.vocabulary_.items()])\n",
    "topic_words = []\n",
    "for r in model.components_:\n",
    "    a = sorted([(v,i) for i,v in enumerate(r)],reverse=True)[0:7]\n",
    "    topic_words.append([words[e[1]] for e in a])"
   ]
  },
  {
   "cell_type": "code",
   "execution_count": 91,
   "metadata": {
    "collapsed": false
   },
   "outputs": [],
   "source": [
    "# Create the a list of topic words but only inlude them if they are the highest among all clusters\n",
    "# they also need to be weighted appropriately within their cluster\n",
    "\n",
    "\n",
    "word_cluster = [(list(r).index(max(r)),max(r)) for r in model.components_.transpose()]\n",
    "for i,r in enumerate(model.components_.transpose()):\n",
    "    s = sorted(r)\n",
    "    if (s[0]-s[1])/s[1]<0.25:\n",
    "        word_cluster[i] = (-1,-1)\n",
    "topic_words = []\n",
    "for c in range(6):\n",
    "    a = sorted([(v[1],i) for i,v in enumerate(word_cluster) if v[0]==c], reverse=True)[0:7]\n",
    "    topic_words.append([words[e[1]] for e in a])"
   ]
  },
  {
   "cell_type": "code",
   "execution_count": 92,
   "metadata": {
    "collapsed": false,
    "scrolled": true
   },
   "outputs": [
    {
     "data": {
      "text/plain": [
       "[[(982, '#islamicstate'),\n",
       "  (950, '#is'),\n",
       "  (193, '#amaqagency'),\n",
       "  (419, '#breaking'),\n",
       "  (2698, 'aamaq'),\n",
       "  (13810, 'martyrdom'),\n",
       "  (689, '#fallujah')],\n",
       " [(3747, 'allah'),\n",
       "  (9718, 'follow'),\n",
       "  (14719, 'muslims'),\n",
       "  (8358, 'dont'),\n",
       "  (14708, 'muslim'),\n",
       "  (12580, 'khair'),\n",
       "  (11920, 'islam')],\n",
       " [(19481, 'state'),\n",
       "  (11926, 'islamic'),\n",
       "  (3919, 'alqaeda'),\n",
       "  (12834, 'ksa'),\n",
       "  (14092, 'message'),\n",
       "  (13223, 'libya'),\n",
       "  (22001, 'wilaya')],\n",
       " [(12708, 'killed'),\n",
       "  (11902, 'isis'),\n",
       "  (20607, 'today'),\n",
       "  (19968, 'syria'),\n",
       "  (5892, 'breaking'),\n",
       "  (22334, 'ypg'),\n",
       "  (4698, 'assad')],\n",
       " [(1886, '#syria'),\n",
       "  (961, '#isis'),\n",
       "  (108, '#aleppo'),\n",
       "  (267, '#assad'),\n",
       "  (1645, '#russia'),\n",
       "  (1467, '#palmyra'),\n",
       "  (935, '#iraq')],\n",
       " [(0, '#'),\n",
       "  (2261, '128'),\n",
       "  (9, '#24'),\n",
       "  (15304, 'occur'),\n",
       "  (2479, '360'),\n",
       "  (18424, 'secondary'),\n",
       "  (4573, 'arrahman')]]"
      ]
     },
     "execution_count": 92,
     "metadata": {},
     "output_type": "execute_result"
    }
   ],
   "source": [
    "topic_words"
   ]
  },
  {
   "cell_type": "markdown",
   "metadata": {},
   "source": [
    "-----"
   ]
  },
  {
   "cell_type": "markdown",
   "metadata": {},
   "source": [
    "## Creating Graph"
   ]
  },
  {
   "cell_type": "code",
   "execution_count": 109,
   "metadata": {
    "collapsed": true
   },
   "outputs": [],
   "source": [
    "def is_retweet(tweet):\n",
    "    match = re.search('^rt', tweet)\n",
    "    if match:\n",
    "        return True\n",
    "    return False"
   ]
  },
  {
   "cell_type": "code",
   "execution_count": 110,
   "metadata": {
    "collapsed": false
   },
   "outputs": [],
   "source": [
    "def check_string(string):\n",
    "    return string in df.username.unique()"
   ]
  },
  {
   "cell_type": "code",
   "execution_count": 30,
   "metadata": {
    "collapsed": false
   },
   "outputs": [
    {
     "data": {
      "text/plain": [
       "5824"
      ]
     },
     "execution_count": 30,
     "metadata": {},
     "output_type": "execute_result"
    }
   ],
   "source": [
    "# number of retweets\n",
    "\n",
    "count=0\n",
    "rt = []\n",
    "for tweet in df.tweets:\n",
    "    m = re.findall(r\"^rt @\", tweet)\n",
    "    if m:\n",
    "        count+=1\n",
    "        rt.append(tweet)\n",
    "count\n",
    "#len(set(rt))"
   ]
  },
  {
   "cell_type": "code",
   "execution_count": 80,
   "metadata": {
    "collapsed": true
   },
   "outputs": [],
   "source": [
    "# create the nodes for the graph. Dictionary keys as usernames \n",
    "# with each item in the value list being a connection with number of times mentioned\n",
    "# NOTE!! this is for every mentioned user\n",
    "\n",
    "nodes = defaultdict(str)\n",
    "for K, V in infoDict.items():\n",
    "    nodes[K] = [(k, v) for k,v in Counter(list(V['affil'])).items() if k != K]\n",
    "for k, v in list(nodes.items()):\n",
    "    if not v:\n",
    "        del nodes[k]"
   ]
  },
  {
   "cell_type": "code",
   "execution_count": 81,
   "metadata": {
    "collapsed": false,
    "scrolled": true
   },
   "outputs": [],
   "source": [
    "matches = 0\n",
    "for k, v in list(nodes.items()):\n",
    "    if not v:\n",
    "        del nodes[k]\n",
    "        \n",
    "    for i in range(len(v)):\n",
    "        if v[i][0] == k:\n",
    "            matches+=1\n",
    "            v.remove(v[i])"
   ]
  },
  {
   "cell_type": "code",
   "execution_count": 83,
   "metadata": {
    "collapsed": false,
    "scrolled": true
   },
   "outputs": [],
   "source": [
    "#create dictionary that maps usernames to a uniqe ID and the cluster they belong to\n",
    "# user_docs = a list of documents per user\n",
    "\n",
    "ID = defaultdict()\n",
    "for k, v in enumerate(list(nodes.items())):\n",
    "    ID[v[0]] = k, user_docs[v[0]]\n",
    "    for i in range(0, len(v[1])):\n",
    "        try:\n",
    "            ID[v[1][i][0]] = k, user_docs[v[1][i][0]]\n",
    "        except:\n",
    "            pass"
   ]
  },
  {
   "cell_type": "code",
   "execution_count": 84,
   "metadata": {
    "collapsed": false,
    "scrolled": true
   },
   "outputs": [],
   "source": [
    "df2 = pd.DataFrame(ID).T"
   ]
  },
  {
   "cell_type": "code",
   "execution_count": 97,
   "metadata": {
    "collapsed": false,
    "scrolled": true
   },
   "outputs": [],
   "source": [
    "# save the nodes as a csv\n",
    "pd.DataFrame(ID).T.to_csv(folder_path+'/nodes3.csv')"
   ]
  },
  {
   "cell_type": "code",
   "execution_count": 98,
   "metadata": {
    "collapsed": false
   },
   "outputs": [],
   "source": [
    "# create dict with a source, target tied to a weight\n",
    "edge_dict = {}\n",
    "for k, v in nodes.items():\n",
    "    for i in range(len(v)):\n",
    "        try:\n",
    "            edge_dict[ID[[k][0]][0], ID[v[i][0]][0]] = v[i][1]\n",
    "        except:\n",
    "            pass"
   ]
  },
  {
   "cell_type": "code",
   "execution_count": 100,
   "metadata": {
    "collapsed": false,
    "scrolled": true
   },
   "outputs": [],
   "source": [
    "pd.DataFrame([[k[0],k[1],v] for k, v in edge_dict.items()]).to_csv(folder_path+'/edges3.csv')"
   ]
  },
  {
   "cell_type": "code",
   "execution_count": null,
   "metadata": {
    "collapsed": false
   },
   "outputs": [],
   "source": [
    "for k, v in edgeDict.items():\n",
    "    edgeDict[k] = [word for item in v for word in item if word in list(set(df.username))]\n",
    "for k, v in list(edgeDict.items()):\n",
    "    if not v:\n",
    "        del edgeDict[k]"
   ]
  },
  {
   "cell_type": "code",
   "execution_count": null,
   "metadata": {
    "collapsed": false
   },
   "outputs": [],
   "source": [
    "for k, v in edgeDict.items():\n",
    "    for name in v:\n",
    "        if name == k:\n",
    "            v.remove(name)"
   ]
  },
  {
   "cell_type": "markdown",
   "metadata": {},
   "source": [
    "-----"
   ]
  },
  {
   "cell_type": "markdown",
   "metadata": {},
   "source": [
    "## Time series analysis of all tweets grouped by day"
   ]
  },
  {
   "cell_type": "code",
   "execution_count": 25,
   "metadata": {
    "collapsed": false
   },
   "outputs": [],
   "source": [
    "from scipy import interpolate\n",
    "import seaborn as sns"
   ]
  },
  {
   "cell_type": "code",
   "execution_count": 24,
   "metadata": {
    "collapsed": false,
    "scrolled": true
   },
   "outputs": [],
   "source": [
    "df.time = pd.to_datetime(df.time)"
   ]
  },
  {
   "cell_type": "code",
   "execution_count": 26,
   "metadata": {
    "collapsed": false
   },
   "outputs": [],
   "source": [
    "perhr = df.set_index(df['time']).resample('D', how='count')"
   ]
  },
  {
   "cell_type": "code",
   "execution_count": 27,
   "metadata": {
    "collapsed": false
   },
   "outputs": [
    {
     "data": {
      "text/plain": [
       "<matplotlib.axes._subplots.AxesSubplot at 0x7f5cbd675908>"
      ]
     },
     "execution_count": 27,
     "metadata": {},
     "output_type": "execute_result"
    },
    {
     "data": {
      "image/png": "[encoded data removed]",
      "text/plain": [
       "<matplotlib.figure.Figure at 0x7f5cbda14c18>"
      ]
     },
     "metadata": {},
     "output_type": "display_data"
    }
   ],
   "source": [
    "pd.rolling_mean(perhr, window=7).tweets['2016-01-01':].plot()"
   ]
  },
  {
   "cell_type": "code",
   "execution_count": 217,
   "metadata": {
    "collapsed": false,
    "scrolled": false
   },
   "outputs": [
    {
     "data": {
      "image/png": "[encoded data removed]",
      "text/plain": [
       "<matplotlib.figure.Figure at 0x7fbcb3d69fd0>"
      ]
     },
     "metadata": {},
     "output_type": "display_data"
    }
   ],
   "source": [
    "fig, ax = plt.subplots(figsize = (20,8))\n",
    "\n",
    "perhr['2016-01-01':].numberstatuses.interpolate(method='linear').plot(ax = ax, color=\"black\", fontsize=12, alpha=0.1)\n",
    "pd.rolling_mean(perhr, window=7).tweets['2016-01-01':].plot(color ='r')\n",
    "\n",
    "#sns.timeseries(perhr, ax=ax)\n",
    "\n",
    "yemen = '2016-01-29'\n",
    "brussels = '2016-03-22'\n",
    "\n",
    "\n",
    "# ax.plot(yemen,183,color = 'r',\n",
    "#         marker = 'o',\n",
    "#         markersize = 20, \n",
    "#         linestyle = '',\n",
    "#        markeredgewidth = 1.5\n",
    "#        )\n",
    "\n",
    "# ax.plot(brussels,183,color = 'r',\n",
    "#         marker = 'v',\n",
    "#         markersize = 20, \n",
    "#         linestyle = '',\n",
    "#        markeredgewidth = 1.5\n",
    "#        )\n",
    "\n",
    "\n",
    "ax.annotate('Bombing in Brussels',xy=(brussels, 200),xytext=('2016-03-03', 310),\n",
    "            arrowprops=dict(facecolor='white', shrink=0.05), size=15)\n",
    "\n",
    "ax.annotate('Car bombing in Yemen',xy=(yemen, 200),xytext=('2016-01-10', 310),\n",
    "            arrowprops=dict(facecolor='white', shrink=0.05),size=15)\n",
    "\n",
    "ax.margins(None,0.1)\n",
    "ax.legend(['Tweets Per Day','7-Day Rolling Average'], loc = 'upper right',\n",
    "           numpoints = 1, labelspacing = 2.0, fontsize = 14)\n",
    "ax.set_xlabel('Date')\n",
    "ax.set_ylabel('Number of Tweets')\n",
    "#ax.set_title('Frequency of ISIS Tweets in 2016')\n",
    "\n",
    "# ax.spines['bottom'].set_color('w')\n",
    "# ax.spines['top'].set_color('w') \n",
    "# ax.spines['right'].set_color('w')\n",
    "# ax.spines['left'].set_color('w')\n",
    "\n",
    "# ax.tick_params(axis='x', colors='w')\n",
    "# ax.tick_params(axis='y', colors='w')\n",
    "\n",
    "# ax.yaxis.label.set_color('w')\n",
    "# ax.xaxis.label.set_color('w')\n",
    "\n",
    "# ax.set_axis_bgcolor('w')\n",
    "fig.savefig('temp.png')\n",
    "plt.show()"
   ]
  },
  {
   "cell_type": "code",
   "execution_count": 93,
   "metadata": {
    "collapsed": false,
    "scrolled": true
   },
   "outputs": [],
   "source": [
    "data2 = pd.DataFrame(columns=['username', 'tweets'])\n",
    "for r in data.iterrows():\n",
    "    for tweet in r[1][4]:\n",
    "        #print(r[1][0])\n",
    "        #temp = pd.DataFrame([[r[1][0], tweet]], columns=['username', 'tweets'])\n",
    "        data2 = data2.append(pd.DataFrame([[r[1][0], tweet]], columns=['username', 'tweets'] ), ignore_index=True)"
   ]
  },
  {
   "cell_type": "code",
   "execution_count": 94,
   "metadata": {
    "collapsed": true
   },
   "outputs": [],
   "source": [
    "data2['topic'] = np.argmax(model.transform(Tfidf_vectorizer.transform(data2.tweets)), axis=1)"
   ]
  },
  {
   "cell_type": "code",
   "execution_count": null,
   "metadata": {
    "collapsed": true
   },
   "outputs": [],
   "source": [
    "fig, ax = plt.subplots(figsize = (20,15))\n",
    "my_colors = 'gbykmr'\n",
    "\n",
    "top10_users = data2[data2.username.isin(data2.username.value_counts()[:10].keys().tolist())]\n",
    "tb = pd.crosstab(top10_users.username, top10_users.topic)\n",
    "tb['sum'] = tb.sum(axis=1)\n",
    "pd.crosstab(top10_users.username, top10_users.topic).plot(kind='barh',stacked=True, figsize=(16, 10), color=my_colors, ax = ax)\n",
    "#tb.sort_values('sum', ascending=False).iloc[:,:5].plot(kind='barh',stacked=True, figsize=(16, 10), colormap=\"Dark2\", ax =ax)\n",
    "\n",
    "\n",
    "\n",
    "ax.legend(['Reporters','Other','Mujadeen','inteluectuals','other','Fanboys'], loc = 'upper right', numpoints = 1, labelspacing = 2.0, fontsize = 14)\n",
    "ax.set_title('10 Most Frequent Users')\n",
    "ax.set_xlabel('Number of Tweets')"
   ]
  }
 ],
 "metadata": {
  "kernelspec": {
   "display_name": "Python 3",
   "language": "python",
   "name": "python3"
  },
  "language_info": {
   "codemirror_mode": {
    "name": "ipython",
    "version": 3
   },
   "file_extension": ".py",
   "mimetype": "text/x-python",
   "name": "python",
   "nbconvert_exporter": "python",
   "pygments_lexer": "ipython3",
   "version": "3.5.1"
  }
 },
 "nbformat": 4,
 "nbformat_minor": 0
}

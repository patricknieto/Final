{
 "cells": [
  {
   "cell_type": "code",
   "execution_count": 1,
   "metadata": {
    "collapsed": false
   },
   "outputs": [],
   "source": [
    "import groupy"
   ]
  },
  {
   "cell_type": "code",
   "execution_count": 19,
   "metadata": {
    "collapsed": true
   },
   "outputs": [],
   "source": [
    "import requests\n",
    "from pprint import pprint\n",
    "import json"
   ]
  },
  {
   "cell_type": "code",
   "execution_count": 2,
   "metadata": {
    "collapsed": false
   },
   "outputs": [
    {
     "data": {
      "text/plain": [
       "'~/.groupy.key'"
      ]
     },
     "execution_count": 2,
     "metadata": {},
     "output_type": "execute_result"
    }
   ],
   "source": [
    "groupy.config.KEY_LOCATION"
   ]
  },
  {
   "cell_type": "code",
   "execution_count": 14,
   "metadata": {
    "collapsed": false
   },
   "outputs": [],
   "source": [
    "base = 'https://api.groupme.com/v3'\n",
    "mytoken = '675c1bf0de4c013239b24ebe28d9a66b'"
   ]
  },
  {
   "cell_type": "code",
   "execution_count": 58,
   "metadata": {
    "collapsed": false
   },
   "outputs": [
    {
     "data": {
      "text/plain": [
       "<Response [200]>"
      ]
     },
     "execution_count": 58,
     "metadata": {},
     "output_type": "execute_result"
    }
   ],
   "source": [
    "r = requests.get('https://api.groupme.com/v3/groups/13565386?token=675c1bf0de4c013239b24ebe28d9a66b')\n",
    "r"
   ]
  },
  {
   "cell_type": "code",
   "execution_count": 59,
   "metadata": {
    "collapsed": false
   },
   "outputs": [],
   "source": [
    "data = json.loads(r.text)"
   ]
  },
  {
   "cell_type": "code",
   "execution_count": 60,
   "metadata": {
    "collapsed": false,
    "scrolled": true
   },
   "outputs": [
    {
     "data": {
      "text/plain": [
       "{'meta': {'code': 200},\n",
       " 'response': {'created_at': 1429506691,\n",
       "  'creator_user_id': '11651037',\n",
       "  'description': 'Shredding the gnar 😜🤘🏼',\n",
       "  'group_id': '13565386',\n",
       "  'id': '13565386',\n",
       "  'image_url': 'https://i.groupme.com/640x480.jpeg.74a21cdebe6242149a80930ca09c029b',\n",
       "  'max_members': 200,\n",
       "  'members': [{'autokicked': False,\n",
       "    'id': '84193121',\n",
       "    'image_url': 'https://i.groupme.com/750x750.jpeg.b2e2fcca4f004fb5b4150b240ecf2b31',\n",
       "    'muted': True,\n",
       "    'nickname': 'yung baby',\n",
       "    'user_id': '11651037'},\n",
       "   {'autokicked': False,\n",
       "    'id': '84193122',\n",
       "    'image_url': 'https://i.groupme.com/750x750.jpeg.f7e4886d2adf4f759f3d5baa26a3cdc2',\n",
       "    'muted': False,\n",
       "    'nickname': '💦',\n",
       "    'user_id': '24447282'},\n",
       "   {'autokicked': False,\n",
       "    'id': '84193123',\n",
       "    'image_url': 'https://i.groupme.com/527x383.png.1b0c7410642441bf98e27f16e2d05202',\n",
       "    'muted': False,\n",
       "    'nickname': \"Rona's hyucc keeper\",\n",
       "    'user_id': '18344485'},\n",
       "   {'autokicked': False,\n",
       "    'id': '84193124',\n",
       "    'image_url': 'https://i.groupme.com/750x750.jpeg.300987efc89a4333bbc67bd4d9fd4781',\n",
       "    'muted': False,\n",
       "    'nickname': \"Gabby's Stay-At-Home Husband\",\n",
       "    'user_id': '10279886'},\n",
       "   {'autokicked': False,\n",
       "    'id': '84193125',\n",
       "    'image_url': 'http://i.groupme.com/640x640.jpeg.cf866b8092dd415698b8f6e771d70eef',\n",
       "    'muted': True,\n",
       "    'nickname': 'Lil Funyun',\n",
       "    'user_id': '26587124'},\n",
       "   {'autokicked': False,\n",
       "    'id': '84193126',\n",
       "    'image_url': 'https://i.groupme.com/1080x1920.png.54a8886da8a5459a9bda2aad79393311',\n",
       "    'muted': False,\n",
       "    'nickname': \"Joe And Jordan's Podcast Hoe\",\n",
       "    'user_id': '26587129'},\n",
       "   {'autokicked': False,\n",
       "    'id': '84193127',\n",
       "    'image_url': 'https://i.groupme.com/750x750.jpeg.a49bdfcd82f94c85b448838e2da8a833',\n",
       "    'muted': True,\n",
       "    'nickname': \"joe's nyc roommate\",\n",
       "    'user_id': '6507431'},\n",
       "   {'autokicked': False,\n",
       "    'id': '84193144',\n",
       "    'image_url': 'http://i.groupme.com/250x250.png.5dc513d451de4c66b6341f12da1e9f89',\n",
       "    'muted': False,\n",
       "    'nickname': 'Lil Cocoa Puff',\n",
       "    'user_id': '26587135'},\n",
       "   {'autokicked': False,\n",
       "    'id': '84399378',\n",
       "    'image_url': 'https://i.groupme.com/972x964.png.3153bba0e9f84541b331788110d5c33b',\n",
       "    'muted': True,\n",
       "    'nickname': 'yung boop',\n",
       "    'user_id': '19270562'},\n",
       "   {'autokicked': False,\n",
       "    'id': '84835583',\n",
       "    'image_url': 'http://i.groupme.com/638x638.jpeg.91e6906d673942849c86733e7af6709f',\n",
       "    'muted': True,\n",
       "    'nickname': 'Yung Parcheesi',\n",
       "    'user_id': '26694440'}],\n",
       "  'messages': {'count': 41321,\n",
       "   'last_message_created_at': 1464931152,\n",
       "   'last_message_id': '146493115225262073',\n",
       "   'preview': {'attachments': [],\n",
       "    'image_url': 'https://i.groupme.com/640x640.jpeg.cf866b8092dd415698b8f6e771d70eef',\n",
       "    'nickname': 'Lil Funyun',\n",
       "    'text': 'you get it'}},\n",
       "  'name': 'Make Sweaty Waps Lit Again',\n",
       "  'office_mode': False,\n",
       "  'phone_number': '+1 8455355662',\n",
       "  'share_url': None,\n",
       "  'type': 'private',\n",
       "  'updated_at': 1464931152}}"
      ]
     },
     "execution_count": 60,
     "metadata": {},
     "output_type": "execute_result"
    }
   ],
   "source": [
    "data"
   ]
  },
  {
   "cell_type": "code",
   "execution_count": 72,
   "metadata": {
    "collapsed": false
   },
   "outputs": [],
   "source": [
    "def get_number_of_messages_in_group(groups_data, group_id):\n",
    "    i = 0\n",
    "    while True:\n",
    "        if group_id == groups_data['response']['group_id']:\n",
    "            return groups_data['response']['messages']['count']\n",
    "        i += 1"
   ]
  },
  {
   "cell_type": "code",
   "execution_count": 85,
   "metadata": {
    "collapsed": false
   },
   "outputs": [
    {
     "name": "stdout",
     "output_type": "stream",
     "text": [
      "There have been 41321  messages in  Make Sweaty Waps Lit Again\n"
     ]
    }
   ],
   "source": [
    "print('There have been', data['response']['messages']['count'], ' messages in ', data['response']['name'])"
   ]
  },
  {
   "cell_type": "code",
   "execution_count": 89,
   "metadata": {
    "collapsed": false
   },
   "outputs": [
    {
     "name": "stdout",
     "output_type": "stream",
     "text": [
      "yung baby\n",
      "💦\n",
      "Rona's hyucc keeper\n",
      "Gabby's Stay-At-Home Husband\n",
      "Lil Funyun\n",
      "Joe And Jordan's Podcast Hoe\n",
      "joe's nyc roommate\n",
      "Lil Cocoa Puff\n",
      "yung boop\n",
      "Yung Parcheesi\n"
     ]
    }
   ],
   "source": [
    "for member in data['response']['members']:\n",
    "    print(member['nickname'], 'has contributed ', )"
   ]
  },
  {
   "cell_type": "code",
   "execution_count": null,
   "metadata": {
    "collapsed": true
   },
   "outputs": [],
   "source": []
  },
  {
   "cell_type": "code",
   "execution_count": 90,
   "metadata": {
    "collapsed": false
   },
   "outputs": [
    {
     "data": {
      "text/plain": [
       "<Response [200]>"
      ]
     },
     "execution_count": 90,
     "metadata": {},
     "output_type": "execute_result"
    }
   ],
   "source": [
    "r = requests.get('https://api.groupme.com/v3/groups/13565386/messages?token=675c1bf0de4c013239b24ebe28d9a66b')\n",
    "r"
   ]
  },
  {
   "cell_type": "code",
   "execution_count": 98,
   "metadata": {
    "collapsed": true
   },
   "outputs": [],
   "source": [
    "data2 = json.loads(r.text)"
   ]
  },
  {
   "cell_type": "code",
   "execution_count": 100,
   "metadata": {
    "collapsed": false
   },
   "outputs": [
    {
     "data": {
      "text/plain": [
       "{'count': 41321,\n",
       " 'messages': [{'attachments': [],\n",
       "   'avatar_url': 'https://i.groupme.com/640x640.jpeg.cf866b8092dd415698b8f6e771d70eef',\n",
       "   'created_at': 1464931152,\n",
       "   'favorited_by': ['10279886', '26587129'],\n",
       "   'group_id': '13565386',\n",
       "   'id': '146493115225262073',\n",
       "   'name': 'Lil Funyun',\n",
       "   'sender_id': '26587124',\n",
       "   'sender_type': 'user',\n",
       "   'source_guid': '51D1335F-9715-4353-8D4F-4855CFA8B7A9',\n",
       "   'system': False,\n",
       "   'text': 'you get it',\n",
       "   'user_id': '26587124'},\n",
       "  {'attachments': [],\n",
       "   'avatar_url': 'https://i.groupme.com/640x640.jpeg.cf866b8092dd415698b8f6e771d70eef',\n",
       "   'created_at': 1464931147,\n",
       "   'favorited_by': [],\n",
       "   'group_id': '13565386',\n",
       "   'id': '146493114749270842',\n",
       "   'name': 'Lil Funyun',\n",
       "   'sender_id': '26587124',\n",
       "   'sender_type': 'user',\n",
       "   'source_guid': '6A06586C-3BDB-44E0-AFF5-8EE6E16221D1',\n",
       "   'system': False,\n",
       "   'text': \"it's an apple that tastes like a grape kinda\",\n",
       "   'user_id': '26587124'},\n",
       "  {'attachments': [],\n",
       "   'avatar_url': 'https://i.groupme.com/640x640.jpeg.cf866b8092dd415698b8f6e771d70eef',\n",
       "   'created_at': 1464931132,\n",
       "   'favorited_by': [],\n",
       "   'group_id': '13565386',\n",
       "   'id': '146493113219537091',\n",
       "   'name': 'Lil Funyun',\n",
       "   'sender_id': '26587124',\n",
       "   'sender_type': 'user',\n",
       "   'source_guid': '2751B298-0167-4478-8982-F8C7AD5D88D8',\n",
       "   'system': False,\n",
       "   'text': 'CONGRATS JOR CONGRATS AUB CONGRATS ME FOR EATING A GRAPPLE TODAY',\n",
       "   'user_id': '26587124'},\n",
       "  {'attachments': [],\n",
       "   'avatar_url': 'https://i.groupme.com/527x383.png.1b0c7410642441bf98e27f16e2d05202',\n",
       "   'created_at': 1464918720,\n",
       "   'favorited_by': [],\n",
       "   'group_id': '13565386',\n",
       "   'id': '146491872055052073',\n",
       "   'name': \"Rona's hyucc keeper\",\n",
       "   'sender_id': '18344485',\n",
       "   'sender_type': 'user',\n",
       "   'source_guid': '40A74F4C-A7FD-48AB-88E3-18B8C46B2A5D',\n",
       "   'system': False,\n",
       "   'text': \"I've been PUSHING for that but it's hellla expensive\",\n",
       "   'user_id': '18344485'},\n",
       "  {'attachments': [],\n",
       "   'avatar_url': 'https://i.groupme.com/527x383.png.1b0c7410642441bf98e27f16e2d05202',\n",
       "   'created_at': 1464918707,\n",
       "   'favorited_by': ['10279886'],\n",
       "   'group_id': '13565386',\n",
       "   'id': '146491870704054966',\n",
       "   'name': \"Rona's hyucc keeper\",\n",
       "   'sender_id': '18344485',\n",
       "   'sender_type': 'user',\n",
       "   'source_guid': '6763E29B-5CA5-48B4-9B86-E6A181DEBDB8',\n",
       "   'system': False,\n",
       "   'text': \"that's so cool!!! get universal a discount on a park wide snap story ayyyy\",\n",
       "   'user_id': '18344485'},\n",
       "  {'attachments': [],\n",
       "   'avatar_url': 'https://i.groupme.com/750x750.jpeg.a49bdfcd82f94c85b448838e2da8a833',\n",
       "   'created_at': 1464918700,\n",
       "   'favorited_by': ['19270562', '26587129'],\n",
       "   'group_id': '13565386',\n",
       "   'id': '146491870067652262',\n",
       "   'name': \"joe's nyc roommate\",\n",
       "   'sender_id': '6507431',\n",
       "   'sender_type': 'user',\n",
       "   'source_guid': 'E68A729D-C28E-4BF9-8374-99E8E27ED773',\n",
       "   'system': False,\n",
       "   'text': 'he was super in to my ideas ',\n",
       "   'user_id': '6507431'},\n",
       "  {'attachments': [],\n",
       "   'avatar_url': 'https://i.groupme.com/750x750.jpeg.a49bdfcd82f94c85b448838e2da8a833',\n",
       "   'created_at': 1464918696,\n",
       "   'favorited_by': ['19270562'],\n",
       "   'group_id': '13565386',\n",
       "   'id': '146491869637780842',\n",
       "   'name': \"joe's nyc roommate\",\n",
       "   'sender_id': '6507431',\n",
       "   'sender_type': 'user',\n",
       "   'source_guid': '8CC58D95-921B-4F1E-B9B5-8A67DE7CE25A',\n",
       "   'system': False,\n",
       "   'text': \"I'm so excited \",\n",
       "   'user_id': '6507431'},\n",
       "  {'attachments': [],\n",
       "   'avatar_url': 'https://i.groupme.com/750x750.jpeg.f7e4886d2adf4f759f3d5baa26a3cdc2',\n",
       "   'created_at': 1464918681,\n",
       "   'favorited_by': ['19270562', '26587124', '26587129'],\n",
       "   'group_id': '13565386',\n",
       "   'id': '146491868169485035',\n",
       "   'name': '💦',\n",
       "   'sender_id': '24447282',\n",
       "   'sender_type': 'user',\n",
       "   'source_guid': '220A656D-8615-4652-B110-1AF25AC3A6BA',\n",
       "   'system': False,\n",
       "   'text': 'More like head of des-nuts!',\n",
       "   'user_id': '24447282'},\n",
       "  {'attachments': [],\n",
       "   'avatar_url': 'https://i.groupme.com/972x964.png.3153bba0e9f84541b331788110d5c33b',\n",
       "   'created_at': 1464918678,\n",
       "   'favorited_by': ['24447282'],\n",
       "   'group_id': '13565386',\n",
       "   'id': '146491867833197977',\n",
       "   'name': 'yung boop',\n",
       "   'sender_id': '19270562',\n",
       "   'sender_type': 'user',\n",
       "   'source_guid': '9260e3c252ae06507c0ba5e888436420',\n",
       "   'system': False,\n",
       "   'text': ':OO',\n",
       "   'user_id': '19270562'},\n",
       "  {'attachments': [],\n",
       "   'avatar_url': 'https://i.groupme.com/750x750.jpeg.a49bdfcd82f94c85b448838e2da8a833',\n",
       "   'created_at': 1464918670,\n",
       "   'favorited_by': ['19270562', '26587129'],\n",
       "   'group_id': '13565386',\n",
       "   'id': '146491867092138993',\n",
       "   'name': \"joe's nyc roommate\",\n",
       "   'sender_id': '6507431',\n",
       "   'sender_type': 'user',\n",
       "   'source_guid': '83D62594-45F1-4E00-AEA7-F4CD8DB87EC0',\n",
       "   'system': False,\n",
       "   'text': \"I'm gonna be on a 3 person design team redoing vine from scratch \",\n",
       "   'user_id': '6507431'},\n",
       "  {'attachments': [],\n",
       "   'avatar_url': 'https://i.groupme.com/972x964.png.3153bba0e9f84541b331788110d5c33b',\n",
       "   'created_at': 1464918656,\n",
       "   'favorited_by': [],\n",
       "   'group_id': '13565386',\n",
       "   'id': '146491865644050966',\n",
       "   'name': 'yung boop',\n",
       "   'sender_id': '19270562',\n",
       "   'sender_type': 'user',\n",
       "   'source_guid': 'e78dcc71a0f57e5e19adf2d2a0760728',\n",
       "   'system': False,\n",
       "   'text': \"that's so awesome!!!\",\n",
       "   'user_id': '19270562'},\n",
       "  {'attachments': [],\n",
       "   'avatar_url': 'https://i.groupme.com/750x750.jpeg.a49bdfcd82f94c85b448838e2da8a833',\n",
       "   'created_at': 1464918650,\n",
       "   'favorited_by': ['19270562'],\n",
       "   'group_id': '13565386',\n",
       "   'id': '146491865095428993',\n",
       "   'name': \"joe's nyc roommate\",\n",
       "   'sender_id': '6507431',\n",
       "   'sender_type': 'user',\n",
       "   'source_guid': 'D8B8D842-4E65-4CB0-B556-8F72F398D73F',\n",
       "   'system': False,\n",
       "   'text': \"but yeah he'll be my head of design \",\n",
       "   'user_id': '6507431'},\n",
       "  {'attachments': [],\n",
       "   'avatar_url': 'https://i.groupme.com/972x964.png.3153bba0e9f84541b331788110d5c33b',\n",
       "   'created_at': 1464918619,\n",
       "   'favorited_by': [],\n",
       "   'group_id': '13565386',\n",
       "   'id': '146491861914100966',\n",
       "   'name': 'yung boop',\n",
       "   'sender_id': '19270562',\n",
       "   'sender_type': 'user',\n",
       "   'source_guid': '22a0c056ff6835ad7d971a1f24349f85',\n",
       "   'system': False,\n",
       "   'text': 'lolol',\n",
       "   'user_id': '19270562'},\n",
       "  {'attachments': [],\n",
       "   'avatar_url': 'https://i.groupme.com/750x750.jpeg.a49bdfcd82f94c85b448838e2da8a833',\n",
       "   'created_at': 1464918606,\n",
       "   'favorited_by': ['19270562', '26587129'],\n",
       "   'group_id': '13565386',\n",
       "   'id': '146491860646847977',\n",
       "   'name': \"joe's nyc roommate\",\n",
       "   'sender_id': '6507431',\n",
       "   'sender_type': 'user',\n",
       "   'source_guid': 'A3ADF1BF-3A55-471C-B531-32F164D11B6D',\n",
       "   'system': False,\n",
       "   'text': 'Delete this number ',\n",
       "   'user_id': '6507431'},\n",
       "  {'attachments': [],\n",
       "   'avatar_url': 'https://i.groupme.com/972x964.png.3153bba0e9f84541b331788110d5c33b',\n",
       "   'created_at': 1464918584,\n",
       "   'favorited_by': ['26587129', '6507431'],\n",
       "   'group_id': '13565386',\n",
       "   'id': '146491858409501642',\n",
       "   'name': 'yung boop',\n",
       "   'sender_id': '19270562',\n",
       "   'sender_type': 'user',\n",
       "   'source_guid': '10a464b5ad5ec54eb9ae82381e879030',\n",
       "   'system': False,\n",
       "   'text': 'cuz I was a yung gal',\n",
       "   'user_id': '19270562'},\n",
       "  {'attachments': [],\n",
       "   'avatar_url': 'https://i.groupme.com/750x750.jpeg.a49bdfcd82f94c85b448838e2da8a833',\n",
       "   'created_at': 1464918582,\n",
       "   'favorited_by': ['18344485', '19270562', '24447282', '26587129'],\n",
       "   'group_id': '13565386',\n",
       "   'id': '146491858232620164',\n",
       "   'name': \"joe's nyc roommate\",\n",
       "   'sender_id': '6507431',\n",
       "   'sender_type': 'user',\n",
       "   'source_guid': '782A1128-942B-4AD9-9AE9-88DA704D054D',\n",
       "   'system': False,\n",
       "   'text': 'um who are you Rona Akbari???? Get out ',\n",
       "   'user_id': '6507431'},\n",
       "  {'attachments': [],\n",
       "   'avatar_url': 'https://i.groupme.com/972x964.png.3153bba0e9f84541b331788110d5c33b',\n",
       "   'created_at': 1464918574,\n",
       "   'favorited_by': [],\n",
       "   'group_id': '13565386',\n",
       "   'id': '146491857491201885',\n",
       "   'name': 'yung boop',\n",
       "   'sender_id': '19270562',\n",
       "   'sender_type': 'user',\n",
       "   'source_guid': '48e193ace89430a2c9da977cfb125f6e',\n",
       "   'system': False,\n",
       "   'text': 'but then I got scared lol',\n",
       "   'user_id': '19270562'},\n",
       "  {'attachments': [],\n",
       "   'avatar_url': 'https://i.groupme.com/972x964.png.3153bba0e9f84541b331788110d5c33b',\n",
       "   'created_at': 1464918558,\n",
       "   'favorited_by': [],\n",
       "   'group_id': '13565386',\n",
       "   'id': '146491855812759684',\n",
       "   'name': 'yung boop',\n",
       "   'sender_id': '19270562',\n",
       "   'sender_type': 'user',\n",
       "   'source_guid': 'bd0731b4a3680bd5d751bcfedc0063c5',\n",
       "   'system': False,\n",
       "   'text': \"back when I did stop motion (senior of high school) on Vine we'd interact a lot. his dad lives in jax and one time he was here and I was about to hang out with him\",\n",
       "   'user_id': '19270562'},\n",
       "  {'attachments': [],\n",
       "   'avatar_url': 'https://i.groupme.com/750x750.jpeg.a49bdfcd82f94c85b448838e2da8a833',\n",
       "   'created_at': 1464918556,\n",
       "   'favorited_by': ['19270562'],\n",
       "   'group_id': '13565386',\n",
       "   'id': '146491855637728341',\n",
       "   'name': \"joe's nyc roommate\",\n",
       "   'sender_id': '6507431',\n",
       "   'sender_type': 'user',\n",
       "   'source_guid': '08D535BB-D6BB-4F2B-B164-2C003AE8E20D',\n",
       "   'system': False,\n",
       "   'text': 'and smart ',\n",
       "   'user_id': '6507431'},\n",
       "  {'attachments': [],\n",
       "   'avatar_url': 'https://i.groupme.com/1080x1920.png.54a8886da8a5459a9bda2aad79393311',\n",
       "   'created_at': 1464918556,\n",
       "   'favorited_by': ['19270562'],\n",
       "   'group_id': '13565386',\n",
       "   'id': '146491855617707091',\n",
       "   'name': \"Joe And Jordan's Podcast Hoe\",\n",
       "   'sender_id': '26587129',\n",
       "   'sender_type': 'user',\n",
       "   'source_guid': 'D1825413-725D-4350-85F4-3DDCC3A5DB62',\n",
       "   'system': False,\n",
       "   'text': 'He seems like the coolest person on this planet',\n",
       "   'user_id': '26587129'}]}"
      ]
     },
     "execution_count": 100,
     "metadata": {},
     "output_type": "execute_result"
    }
   ],
   "source": [
    "data2['response']"
   ]
  },
  {
   "cell_type": "code",
   "execution_count": 121,
   "metadata": {
    "collapsed": false
   },
   "outputs": [
    {
     "data": {
      "text/plain": [
       "<Response [401]>"
      ]
     },
     "execution_count": 121,
     "metadata": {},
     "output_type": "execute_result"
    }
   ],
   "source": [
    "r = requests.get('https://api.groupme.com/v3/groups/13565386/likes?period=<||>dtoken=675c1bf0de4c013239b24ebe28d9a66b')\n",
    "r"
   ]
  },
  {
   "cell_type": "code",
   "execution_count": 120,
   "metadata": {
    "collapsed": true
   },
   "outputs": [],
   "source": [
    "data2 = json.loads(r.text)"
   ]
  },
  {
   "cell_type": "code",
   "execution_count": null,
   "metadata": {
    "collapsed": true
   },
   "outputs": [],
   "source": []
  }
 ],
 "metadata": {
  "kernelspec": {
   "display_name": "Python 3",
   "language": "python",
   "name": "python3"
  },
  "language_info": {
   "codemirror_mode": {
    "name": "ipython",
    "version": 3
   },
   "file_extension": ".py",
   "mimetype": "text/x-python",
   "name": "python",
   "nbconvert_exporter": "python",
   "pygments_lexer": "ipython3",
   "version": "3.5.1"
  }
 },
 "nbformat": 4,
 "nbformat_minor": 0
}
